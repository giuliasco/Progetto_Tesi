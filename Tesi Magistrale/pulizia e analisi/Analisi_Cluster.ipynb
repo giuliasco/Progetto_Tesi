{
 "cells": [
  {
   "cell_type": "code",
   "execution_count": 1,
   "id": "d58055bb",
   "metadata": {},
   "outputs": [],
   "source": [
    "import pandas as pd\n",
    "import numpy as np\n",
    "import matplotlib.pyplot as plt\n",
    "from sklearn.preprocessing import StandardScaler, MinMaxScaler\n",
    "from sklearn.cluster import KMeans\n",
    "from sklearn.decomposition import PCA\n",
    "from sklearn.metrics import silhouette_score\n",
    "from sklearn.decomposition import PCA\n",
    "from sklearn.metrics import silhouette_samples, silhouette_score\n",
    "import matplotlib.cm as cm\n",
    "from sklearn.model_selection import cross_val_score, cross_validate\n",
    "from sklearn.linear_model import LogisticRegression\n",
    "from mpl_toolkits.mplot3d import axes3d\n",
    "import plotly.express as px\n",
    "from plotly.subplots import make_subplots\n",
    "import plotly.graph_objects as go\n",
    "import seaborn as sns\n",
    "\n",
    "%matplotlib inline\n"
   ]
  },
  {
   "cell_type": "markdown",
   "id": "6f2eb28f-c9ac-45ab-b45f-ceff49d45503",
   "metadata": {
    "tags": []
   },
   "source": [
    "# Operazioni su DataFrame"
   ]
  },
  {
   "cell_type": "code",
   "execution_count": 2,
   "id": "7a83eb94",
   "metadata": {},
   "outputs": [],
   "source": [
    "df_totale = pd.read_excel('dati_puliti_finali.xlsx')"
   ]
  },
  {
   "cell_type": "code",
   "execution_count": 3,
   "id": "d3e9a7d4",
   "metadata": {},
   "outputs": [],
   "source": [
    "df_totale.drop(columns=('Unnamed: 0'),inplace=True)\n"
   ]
  },
  {
   "cell_type": "code",
   "execution_count": 4,
   "id": "2e871f6d-de1e-49d8-bc30-cfc00de0afb2",
   "metadata": {},
   "outputs": [],
   "source": [
    "esito_12h = list()\n",
    "\n",
    "for row in df_totale.index:\n",
    "    if df_totale['sosp_foll_12h'][row] == 2 | df_totale['sosp_foll_12h'][row] == 3  :\n",
    "        esito_12h.append('morto')\n",
    "    else: esito_12h.append('vivo')"
   ]
  },
  {
   "cell_type": "code",
   "execution_count": 5,
   "id": "5dcc4952-6ec9-4315-a61e-61ec2942e11f",
   "metadata": {},
   "outputs": [],
   "source": [
    "esito_24h = esito_12h.copy()\n",
    "\n",
    "for row in df_totale.index:\n",
    "    if (df_totale['sosp_foll_24h'][row] == 2 | df_totale['sosp_foll_24h'][row] == 3) | (df_totale['deg_tot_dec'][row] == 1):\n",
    "        esito_24h[row] = 'morto'"
   ]
  },
  {
   "cell_type": "code",
   "execution_count": 6,
   "id": "9d3fdbf6-e80d-4118-b619-3acd7865031b",
   "metadata": {},
   "outputs": [],
   "source": [
    "esito_2gg = esito_24h.copy()\n",
    "\n",
    "for row in df_totale.index:\n",
    "    if (df_totale['sosp_foll_2gg'][row] == 2 | df_totale['sosp_foll_2gg'][row] == 3) | (df_totale['deg_tot_dec'][row] == 2):\n",
    "        esito_2gg[row] = 'morto'"
   ]
  },
  {
   "cell_type": "code",
   "execution_count": 7,
   "id": "8799b68f-1815-49c8-af00-d94332b71491",
   "metadata": {},
   "outputs": [],
   "source": [
    "esito_3gg = esito_2gg.copy()\n",
    "\n",
    "for row in df_totale.index:\n",
    "    if (df_totale['sosp_foll_3gg'][row] == 2 | df_totale['sosp_foll_3gg'][row] == 3) | (df_totale['deg_tot_dec'][row] == 3):\n",
    "        esito_3gg[row] = 'morto'"
   ]
  },
  {
   "cell_type": "code",
   "execution_count": 8,
   "id": "14173b46-f8cb-4533-9070-c4c60732d759",
   "metadata": {},
   "outputs": [],
   "source": [
    "data = {'esito_12h': esito_12h, 'esito_24h': esito_24h,'esito_2gg' : esito_2gg, 'esito_3gg': esito_3gg}\n",
    "df_esiti = pd.DataFrame(data=data)"
   ]
  },
  {
   "cell_type": "code",
   "execution_count": 9,
   "id": "6a081e5d",
   "metadata": {},
   "outputs": [],
   "source": [
    "personal_id = df_totale['record_id']"
   ]
  },
  {
   "cell_type": "code",
   "execution_count": 10,
   "id": "e931d322",
   "metadata": {},
   "outputs": [],
   "source": [
    "df_totale.drop(columns=('record_id'),inplace=True)"
   ]
  },
  {
   "cell_type": "code",
   "execution_count": 11,
   "id": "8775351d-21bd-4bd3-a86b-0c72c8429465",
   "metadata": {},
   "outputs": [],
   "source": [
    "df_totale.drop(columns=('anagrafica_complete'),inplace=True)"
   ]
  },
  {
   "cell_type": "code",
   "execution_count": 12,
   "id": "3ceeda95",
   "metadata": {},
   "outputs": [],
   "source": [
    "df_outcome = df_totale.loc[:,'esito_ti':]"
   ]
  },
  {
   "cell_type": "code",
   "execution_count": 13,
   "id": "5d79154f",
   "metadata": {},
   "outputs": [],
   "source": [
    "df_totale.drop(columns=df_outcome.columns,inplace=True)"
   ]
  },
  {
   "cell_type": "code",
   "execution_count": 14,
   "id": "c387b830-1322-4126-9ed8-f79bef24b251",
   "metadata": {},
   "outputs": [],
   "source": [
    "df_outcome.drop(columns=('outcome_ti_complete'), inplace=True)"
   ]
  },
  {
   "cell_type": "code",
   "execution_count": 15,
   "id": "db81375e-26ce-4860-ab8f-f7e9f001f568",
   "metadata": {},
   "outputs": [],
   "source": [
    "df_vis = df_totale[['vis','vis_foll_12h','vis_foll_24h','vis_foll_2gg','vis_foll_3gg']].copy()"
   ]
  },
  {
   "cell_type": "code",
   "execution_count": 16,
   "id": "0d7059f8-24cd-472f-a19c-77fbbe7aa998",
   "metadata": {},
   "outputs": [],
   "source": [
    "df_totale.drop(columns=df_vis.columns,inplace=True)"
   ]
  },
  {
   "cell_type": "code",
   "execution_count": 17,
   "id": "dd5f0814-fa25-4003-80dc-bcb446e4adc9",
   "metadata": {},
   "outputs": [],
   "source": [
    "media_vis = round((df_vis['vis'] + df_vis['vis_foll_12h'] + df_vis['vis_foll_24h'] +\\\n",
    "                   df_vis['vis_foll_2gg']+df_vis['vis_foll_3gg'])/5)\n",
    "df_vis['media_vis'] = media_vis"
   ]
  },
  {
   "cell_type": "code",
   "execution_count": 18,
   "id": "3c0d836b-d549-44b3-9700-57ae9c3a295e",
   "metadata": {},
   "outputs": [],
   "source": [
    "df_score = df_totale[['sofa_score','ap2_total_score','saps_totale','sofa_score_foll_12h','sofa_score_foll_24h','sofa_score_foll_2gg','sofa_score_foll_3gg']].copy()"
   ]
  },
  {
   "cell_type": "code",
   "execution_count": 19,
   "id": "97323d9c-1af1-49f1-9626-d002c39739b8",
   "metadata": {
    "tags": []
   },
   "outputs": [],
   "source": [
    "df_totale.drop(columns=df_score.columns, inplace=True)"
   ]
  },
  {
   "cell_type": "code",
   "execution_count": 33,
   "id": "5fb1af28-2a88-441b-9cda-3557857814d9",
   "metadata": {},
   "outputs": [],
   "source": [
    "df_score['sofa_score_foll_12h'] = df_score['sofa_score_foll_12h'].replace(0,25)\n",
    "df_score['sofa_score_foll_24h'] = df_score['sofa_score_foll_24h'].replace(0,25)\n",
    "df_score['sofa_score_foll_2gg'] = df_score['sofa_score_foll_2gg'].replace(0,25)\n",
    "df_score['sofa_score_foll_3gg'] = df_score['sofa_score_foll_3gg'].replace(0,25)"
   ]
  },
  {
   "cell_type": "code",
   "execution_count": 34,
   "id": "b02c381c-1ba8-4b03-8719-f4914bc8cf77",
   "metadata": {},
   "outputs": [],
   "source": [
    "delta_12h = df_score['sofa_score_foll_12h'] - df_score['sofa_score']\n",
    "delta_24h = df_score['sofa_score_foll_24h'] - df_score['sofa_score_foll_12h']\n",
    "delta_2gg = df_score['sofa_score_foll_2gg'] - df_score['sofa_score_foll_24h']\n",
    "delta_3gg = df_score['sofa_score_foll_3gg'] - df_score['sofa_score_foll_2gg']"
   ]
  },
  {
   "cell_type": "code",
   "execution_count": 35,
   "id": "ac9873eb-29c4-4d89-9d27-7e6b70f346c7",
   "metadata": {},
   "outputs": [],
   "source": [
    "df_score['delta_12h'] = delta_12h\n",
    "df_score['delta_24h'] = delta_24h\n",
    "df_score['delta_2gg'] = delta_2gg\n",
    "df_score['delta_3gg'] = delta_3gg"
   ]
  },
  {
   "cell_type": "code",
   "execution_count": 36,
   "id": "3aa2fc8b-91b7-4ee9-9b74-71f30b9b799e",
   "metadata": {},
   "outputs": [],
   "source": [
    "mean_sofa_score = round((df_score['sofa_score'] + df_score['sofa_score_foll_12h'] + df_score['sofa_score_foll_24h'] +\\\n",
    "                   df_score['sofa_score_foll_2gg'] + df_score['sofa_score_foll_3gg']) / 5)"
   ]
  },
  {
   "cell_type": "code",
   "execution_count": 37,
   "id": "7b346b47-3185-409d-885b-88062da1016e",
   "metadata": {},
   "outputs": [],
   "source": [
    "df_score['mean_sofa'] = mean_sofa_score"
   ]
  },
  {
   "cell_type": "code",
   "execution_count": 38,
   "id": "f65c67b2-ab03-4380-a14b-465cfa7cbfc2",
   "metadata": {},
   "outputs": [
    {
     "data": {
      "text/html": [
       "<div>\n",
       "<style scoped>\n",
       "    .dataframe tbody tr th:only-of-type {\n",
       "        vertical-align: middle;\n",
       "    }\n",
       "\n",
       "    .dataframe tbody tr th {\n",
       "        vertical-align: top;\n",
       "    }\n",
       "\n",
       "    .dataframe thead th {\n",
       "        text-align: right;\n",
       "    }\n",
       "</style>\n",
       "<table border=\"1\" class=\"dataframe\">\n",
       "  <thead>\n",
       "    <tr style=\"text-align: right;\">\n",
       "      <th></th>\n",
       "      <th>sofa_score</th>\n",
       "      <th>ap2_total_score</th>\n",
       "      <th>saps_totale</th>\n",
       "      <th>sofa_score_foll_12h</th>\n",
       "      <th>sofa_score_foll_24h</th>\n",
       "      <th>sofa_score_foll_2gg</th>\n",
       "      <th>sofa_score_foll_3gg</th>\n",
       "      <th>delta_12h</th>\n",
       "      <th>delta_24h</th>\n",
       "      <th>delta_2gg</th>\n",
       "      <th>delta_3gg</th>\n",
       "      <th>mean_sofa</th>\n",
       "    </tr>\n",
       "  </thead>\n",
       "  <tbody>\n",
       "    <tr>\n",
       "      <th>0</th>\n",
       "      <td>11</td>\n",
       "      <td>17</td>\n",
       "      <td>41</td>\n",
       "      <td>10</td>\n",
       "      <td>8</td>\n",
       "      <td>7</td>\n",
       "      <td>10</td>\n",
       "      <td>-1</td>\n",
       "      <td>-2</td>\n",
       "      <td>-1</td>\n",
       "      <td>3</td>\n",
       "      <td>9.0</td>\n",
       "    </tr>\n",
       "    <tr>\n",
       "      <th>1</th>\n",
       "      <td>6</td>\n",
       "      <td>20</td>\n",
       "      <td>34</td>\n",
       "      <td>5</td>\n",
       "      <td>11</td>\n",
       "      <td>10</td>\n",
       "      <td>10</td>\n",
       "      <td>-1</td>\n",
       "      <td>6</td>\n",
       "      <td>-1</td>\n",
       "      <td>0</td>\n",
       "      <td>8.0</td>\n",
       "    </tr>\n",
       "    <tr>\n",
       "      <th>2</th>\n",
       "      <td>5</td>\n",
       "      <td>13</td>\n",
       "      <td>31</td>\n",
       "      <td>5</td>\n",
       "      <td>6</td>\n",
       "      <td>4</td>\n",
       "      <td>4</td>\n",
       "      <td>0</td>\n",
       "      <td>1</td>\n",
       "      <td>-2</td>\n",
       "      <td>0</td>\n",
       "      <td>5.0</td>\n",
       "    </tr>\n",
       "    <tr>\n",
       "      <th>3</th>\n",
       "      <td>7</td>\n",
       "      <td>17</td>\n",
       "      <td>45</td>\n",
       "      <td>6</td>\n",
       "      <td>10</td>\n",
       "      <td>9</td>\n",
       "      <td>11</td>\n",
       "      <td>-1</td>\n",
       "      <td>4</td>\n",
       "      <td>-1</td>\n",
       "      <td>2</td>\n",
       "      <td>9.0</td>\n",
       "    </tr>\n",
       "    <tr>\n",
       "      <th>4</th>\n",
       "      <td>11</td>\n",
       "      <td>23</td>\n",
       "      <td>56</td>\n",
       "      <td>10</td>\n",
       "      <td>9</td>\n",
       "      <td>9</td>\n",
       "      <td>9</td>\n",
       "      <td>-1</td>\n",
       "      <td>-1</td>\n",
       "      <td>0</td>\n",
       "      <td>0</td>\n",
       "      <td>10.0</td>\n",
       "    </tr>\n",
       "    <tr>\n",
       "      <th>...</th>\n",
       "      <td>...</td>\n",
       "      <td>...</td>\n",
       "      <td>...</td>\n",
       "      <td>...</td>\n",
       "      <td>...</td>\n",
       "      <td>...</td>\n",
       "      <td>...</td>\n",
       "      <td>...</td>\n",
       "      <td>...</td>\n",
       "      <td>...</td>\n",
       "      <td>...</td>\n",
       "      <td>...</td>\n",
       "    </tr>\n",
       "    <tr>\n",
       "      <th>270</th>\n",
       "      <td>4</td>\n",
       "      <td>21</td>\n",
       "      <td>55</td>\n",
       "      <td>4</td>\n",
       "      <td>3</td>\n",
       "      <td>4</td>\n",
       "      <td>4</td>\n",
       "      <td>0</td>\n",
       "      <td>-1</td>\n",
       "      <td>1</td>\n",
       "      <td>0</td>\n",
       "      <td>4.0</td>\n",
       "    </tr>\n",
       "    <tr>\n",
       "      <th>271</th>\n",
       "      <td>18</td>\n",
       "      <td>38</td>\n",
       "      <td>96</td>\n",
       "      <td>25</td>\n",
       "      <td>25</td>\n",
       "      <td>25</td>\n",
       "      <td>25</td>\n",
       "      <td>7</td>\n",
       "      <td>0</td>\n",
       "      <td>0</td>\n",
       "      <td>0</td>\n",
       "      <td>24.0</td>\n",
       "    </tr>\n",
       "    <tr>\n",
       "      <th>272</th>\n",
       "      <td>12</td>\n",
       "      <td>39</td>\n",
       "      <td>79</td>\n",
       "      <td>7</td>\n",
       "      <td>10</td>\n",
       "      <td>5</td>\n",
       "      <td>2</td>\n",
       "      <td>-5</td>\n",
       "      <td>3</td>\n",
       "      <td>-5</td>\n",
       "      <td>-3</td>\n",
       "      <td>7.0</td>\n",
       "    </tr>\n",
       "    <tr>\n",
       "      <th>273</th>\n",
       "      <td>14</td>\n",
       "      <td>22</td>\n",
       "      <td>56</td>\n",
       "      <td>13</td>\n",
       "      <td>12</td>\n",
       "      <td>11</td>\n",
       "      <td>11</td>\n",
       "      <td>-1</td>\n",
       "      <td>-1</td>\n",
       "      <td>-1</td>\n",
       "      <td>0</td>\n",
       "      <td>12.0</td>\n",
       "    </tr>\n",
       "    <tr>\n",
       "      <th>274</th>\n",
       "      <td>15</td>\n",
       "      <td>21</td>\n",
       "      <td>88</td>\n",
       "      <td>15</td>\n",
       "      <td>14</td>\n",
       "      <td>16</td>\n",
       "      <td>25</td>\n",
       "      <td>0</td>\n",
       "      <td>-1</td>\n",
       "      <td>2</td>\n",
       "      <td>9</td>\n",
       "      <td>17.0</td>\n",
       "    </tr>\n",
       "  </tbody>\n",
       "</table>\n",
       "<p>275 rows × 12 columns</p>\n",
       "</div>"
      ],
      "text/plain": [
       "     sofa_score  ap2_total_score  saps_totale  sofa_score_foll_12h  \\\n",
       "0            11               17           41                   10   \n",
       "1             6               20           34                    5   \n",
       "2             5               13           31                    5   \n",
       "3             7               17           45                    6   \n",
       "4            11               23           56                   10   \n",
       "..          ...              ...          ...                  ...   \n",
       "270           4               21           55                    4   \n",
       "271          18               38           96                   25   \n",
       "272          12               39           79                    7   \n",
       "273          14               22           56                   13   \n",
       "274          15               21           88                   15   \n",
       "\n",
       "     sofa_score_foll_24h  sofa_score_foll_2gg  sofa_score_foll_3gg  delta_12h  \\\n",
       "0                      8                    7                   10         -1   \n",
       "1                     11                   10                   10         -1   \n",
       "2                      6                    4                    4          0   \n",
       "3                     10                    9                   11         -1   \n",
       "4                      9                    9                    9         -1   \n",
       "..                   ...                  ...                  ...        ...   \n",
       "270                    3                    4                    4          0   \n",
       "271                   25                   25                   25          7   \n",
       "272                   10                    5                    2         -5   \n",
       "273                   12                   11                   11         -1   \n",
       "274                   14                   16                   25          0   \n",
       "\n",
       "     delta_24h  delta_2gg  delta_3gg  mean_sofa  \n",
       "0           -2         -1          3        9.0  \n",
       "1            6         -1          0        8.0  \n",
       "2            1         -2          0        5.0  \n",
       "3            4         -1          2        9.0  \n",
       "4           -1          0          0       10.0  \n",
       "..         ...        ...        ...        ...  \n",
       "270         -1          1          0        4.0  \n",
       "271          0          0          0       24.0  \n",
       "272          3         -5         -3        7.0  \n",
       "273         -1         -1          0       12.0  \n",
       "274         -1          2          9       17.0  \n",
       "\n",
       "[275 rows x 12 columns]"
      ]
     },
     "execution_count": 38,
     "metadata": {},
     "output_type": "execute_result"
    }
   ],
   "source": [
    "df_score"
   ]
  },
  {
   "cell_type": "code",
   "execution_count": 40,
   "id": "3116afd8-79b1-4521-b474-11e35d118b86",
   "metadata": {},
   "outputs": [],
   "source": [
    "df_sepsi = df_totale[['sep','sep_foll_12h','sep_foll_24h','sep_foll_2gg','sep_foll_3gg']]"
   ]
  },
  {
   "cell_type": "code",
   "execution_count": 39,
   "id": "a2f0454e-ffac-4d0e-88dc-74ad8de1a686",
   "metadata": {},
   "outputs": [],
   "source": [
    "df_totale.drop(columns=['diff_sofa_score_foll_12h','diff_sofa_score_foll_24h','diff_sofa_score_foll_2gg',\\\n",
    "                        'diff_sofa_score_foll_3gg'],inplace=True)"
   ]
  },
  {
   "cell_type": "code",
   "execution_count": 41,
   "id": "dfd962a6-b608-4fa3-af62-88c97f8e8396",
   "metadata": {},
   "outputs": [],
   "source": [
    "df_totale.drop(columns=df_sepsi.columns,inplace=True)"
   ]
  },
  {
   "cell_type": "code",
   "execution_count": 42,
   "id": "dc808eb0-ec77-4ee5-b05e-b2fbd4c8f53e",
   "metadata": {},
   "outputs": [],
   "source": [
    "df_horowitz = df_totale[['horowitz','horowitz_foll_12h','horowitz_foll_24h','horowitz_foll_2gg','horowitz_foll_3gg']]"
   ]
  },
  {
   "cell_type": "code",
   "execution_count": 43,
   "id": "22d950a1-4b3d-4f80-bf04-bd2e8f0a6c24",
   "metadata": {},
   "outputs": [],
   "source": [
    "df_totale.drop(columns=df_horowitz.columns,inplace=True)"
   ]
  },
  {
   "cell_type": "markdown",
   "id": "a1758f80-5767-4d14-96b0-1f512db3b2be",
   "metadata": {
    "jp-MarkdownHeadingCollapsed": true,
    "tags": []
   },
   "source": [
    "# PCA SOLO DATI CLINICI\n"
   ]
  },
  {
   "cell_type": "markdown",
   "id": "2c2a9e47-2a3d-4d13-b6e7-be44c3eb49a1",
   "metadata": {
    "tags": []
   },
   "source": [
    "## Calcolo della PCA tempo 0"
   ]
  },
  {
   "cell_type": "code",
   "execution_count": null,
   "id": "2e52ad73-3744-4406-bd60-b954d9be4b36",
   "metadata": {},
   "outputs": [],
   "source": [
    "df_clinico = df_totale.copy()"
   ]
  },
  {
   "cell_type": "code",
   "execution_count": null,
   "id": "99b273fc-de64-4683-8315-fc767ca29ee2",
   "metadata": {},
   "outputs": [],
   "source": [
    "df_clinico_tempo0 = df_clinico.loc[:,:'morta_saps']"
   ]
  },
  {
   "cell_type": "code",
   "execution_count": null,
   "id": "720d2357-ff84-4515-8471-fb287ebee33f",
   "metadata": {},
   "outputs": [],
   "source": [
    "df_clinico_tempo0_noscore = df_clinico_tempo0.loc[:,:'wbc']"
   ]
  },
  {
   "cell_type": "code",
   "execution_count": null,
   "id": "04c1631e-f890-4bc2-8559-d8d3cc37860c",
   "metadata": {},
   "outputs": [],
   "source": [
    "df_clinico_tempo0_noscore"
   ]
  },
  {
   "cell_type": "code",
   "execution_count": null,
   "id": "1d1e77cc-0071-44a2-9305-45788541b67d",
   "metadata": {},
   "outputs": [],
   "source": [
    "minmax_scaler = MinMaxScaler()\n",
    "minmax_scaler.fit(df_clinico_tempo0_noscore)\n",
    "df_minmax_tempo0 = minmax_scaler.transform(df_clinico_tempo0_noscore)"
   ]
  },
  {
   "cell_type": "code",
   "execution_count": null,
   "id": "da9d4890-73b8-40e5-9a08-432372d7c4c2",
   "metadata": {},
   "outputs": [],
   "source": [
    "pca_2d = PCA(n_components=2).fit(df_minmax_tempo0)\n",
    "df_pca_2d_t0 = pd.DataFrame(pca_2d.transform(df_minmax_tempo0))"
   ]
  },
  {
   "cell_type": "code",
   "execution_count": null,
   "id": "6b09b968-65a7-4b93-bd06-b22a32cf4f3b",
   "metadata": {},
   "outputs": [],
   "source": [
    "pca_3d = PCA(n_components=3).fit(df_minmax_tempo0)\n",
    "df_pca_3d_t0 = pd.DataFrame(pca_3d.transform(df_minmax_tempo0))"
   ]
  },
  {
   "cell_type": "code",
   "execution_count": null,
   "id": "790a63bb-76ab-4358-b273-be459efea9d0",
   "metadata": {
    "scrolled": true,
    "tags": []
   },
   "outputs": [],
   "source": [
    "plt.style.use(\"ggplot\") \n",
    "plt.plot(pca_2d.explained_variance_ratio_, marker='o', color='blue')\n",
    "plt.title('PCA con 2 componenti al tempo 0')\n",
    "plt.xlabel('ordered PCs')\n",
    "plt.ylabel('PVE (%)')\n",
    "plt.show()\n",
    "print(pca_2d.explained_variance_ratio_)\n",
    "print(np.sum(pca_2d.explained_variance_ratio_))\n",
    "\n",
    "plt.style.use(\"ggplot\") \n",
    "plt.plot(pca_3d.explained_variance_ratio_, marker='o', color='green')\n",
    "plt.title('PCA con 3 componenti al tempo 0')\n",
    "plt.xlabel('ordered PCs')\n",
    "plt.ylabel('PVE (%)')\n",
    "plt.show()\n",
    "print(pca_3d.explained_variance_ratio_)\n",
    "print(np.sum(pca_3d.explained_variance_ratio_))"
   ]
  },
  {
   "cell_type": "markdown",
   "id": "a0e103f9-1f73-4bb8-936f-6bda7984508d",
   "metadata": {
    "tags": []
   },
   "source": [
    "### Distribuzione delle feature rispetto alle componenti**\n",
    "\n",
    "A seguire vediamo come si distribuiscono le feature rispetto alle componenti, le consideriamo ordinate secondo il contributo che danno alla componente "
   ]
  },
  {
   "cell_type": "code",
   "execution_count": null,
   "id": "15c33baa-f213-46cf-ac20-8088b22f8b7b",
   "metadata": {},
   "outputs": [],
   "source": [
    "variance_ratio_2d = pca_2d.explained_variance_ratio_\n",
    "cumulative_variance_ratio_2d = np.cumsum(variance_ratio_2d)\n",
    "# Get the loadings (coefficients) of each principal component\n",
    "loadings_2d = pca_2d.components_"
   ]
  },
  {
   "cell_type": "code",
   "execution_count": null,
   "id": "b124e21e-5209-48d2-9891-d705d93fddef",
   "metadata": {},
   "outputs": [],
   "source": [
    "variance_ratio_3d = pca_3d.explained_variance_ratio_\n",
    "cumulative_variance_ratio_3d = np.cumsum(variance_ratio_3d)\n",
    "# Get the loadings (coefficients) of each principal component\n",
    "loadings_3d = pca_3d.components_"
   ]
  },
  {
   "cell_type": "code",
   "execution_count": null,
   "id": "322e55f6-239e-49aa-9c38-d099a8d71dcc",
   "metadata": {
    "scrolled": true,
    "tags": []
   },
   "outputs": [],
   "source": [
    "for j in range(len(loadings_2d)):\n",
    "    sorted_loadings_2d = np.argsort(np.abs(loadings_2d[j]))[::-1]\n",
    "    print(\"Features with highest loadings in Principal Component\", j+1,\"\\n\")\n",
    "    for feature_idx in sorted_loadings_2d:\n",
    "        print(\"  \", df_clinico_tempo0_noscore.columns[feature_idx], \": \", loadings_2d[j][feature_idx])\n",
    "    print(\"\\n\")"
   ]
  },
  {
   "cell_type": "code",
   "execution_count": null,
   "id": "91567ac0-a862-4aa7-965f-b974acebcfe4",
   "metadata": {
    "scrolled": true,
    "tags": []
   },
   "outputs": [],
   "source": [
    "for j in range(len(loadings_3d)):\n",
    "    sorted_loadings_3d = np.argsort(np.abs(loadings_3d[j]))[::-1]\n",
    "    print(\"Features with highest loadings in Principal Component\", j+1,\"\\n\")\n",
    "    for feature_idx in sorted_loadings_3d:\n",
    "        print(\"  \", df_clinico_tempo0_noscore.columns[feature_idx], \": \", loadings_3d[j][feature_idx])\n",
    "    print(\"\\n\")"
   ]
  },
  {
   "cell_type": "markdown",
   "id": "a7063efd-7d74-4dd8-a27a-d29100d01a84",
   "metadata": {
    "tags": []
   },
   "source": [
    "### Plot PCA"
   ]
  },
  {
   "cell_type": "markdown",
   "id": "718c69a2-81fa-4285-9341-81eae27c6937",
   "metadata": {
    "tags": []
   },
   "source": [
    "#### Score"
   ]
  },
  {
   "cell_type": "code",
   "execution_count": null,
   "id": "d70094c1-fc9c-4771-8a6a-beabdf2aeeaf",
   "metadata": {},
   "outputs": [],
   "source": [
    "df_score.shape"
   ]
  },
  {
   "cell_type": "code",
   "execution_count": null,
   "id": "d7ee56c9-765c-4f67-a74e-927692d4e183",
   "metadata": {
    "scrolled": true,
    "tags": []
   },
   "outputs": [],
   "source": [
    "fig = plt.figure(figsize=(30,20))\n",
    "\n",
    "for i in range(0,12):\n",
    "    \n",
    "    ax = fig.add_subplot(3, 4, i+1)\n",
    "    col = df_score.columns[i]\n",
    "    plot2d = ax.scatter(df_pca_2d_t0.iloc[:, 0], df_pca_2d_t0.iloc[:, 1], c=df_score.loc[:,col], cmap=plt.cm.get_cmap('OrRd',len(np.unique(df_score[col]))))\n",
    "    plt.xlabel('PC-1')\n",
    "    plt.ylabel('PC-2')\n",
    "    fig.colorbar(plot2d , ticks=range(len(np.unique(df_score[col]))+1), label=col )\n",
    "    \n",
    "plt.rcParams['axes.grid'] = False\n",
    "\n",
    "plt.show()"
   ]
  },
  {
   "cell_type": "code",
   "execution_count": null,
   "id": "af35b764-22df-48f0-b06b-56c40f421257",
   "metadata": {
    "scrolled": true,
    "tags": []
   },
   "outputs": [],
   "source": [
    "\n",
    "fig = plt.figure(figsize=(40,30))\n",
    "\n",
    "fig1 = list()\n",
    "for i in range(0,12):\n",
    "    ax = fig.add_subplot(3, 4, i+1, projection='3d')\n",
    "    col = df_score.columns[i]\n",
    "\n",
    "    plot3d = ax.scatter(df_pca_3d_t0.iloc[:, 0], df_pca_3d_t0.iloc[:, 1],df_pca_3d_t0.iloc[:, 2],  c=df_score[col],\\\n",
    "               cmap=plt.cm.get_cmap('RdPu',len(np.unique(df_score[col]))))\n",
    "    plt.xlabel('PC-1')\n",
    "    plt.ylabel('PC-2')\n",
    "    fig.colorbar(plot3d ,ticks=range(len(np.unique(df_score[col]))+1), label=col)\n",
    "    plt.title(str(i) + \" - \" + str(col))\n",
    "    \n",
    "    fig1.append(px.scatter_3d(\n",
    "        df_pca_3d_t0, x=0, y=1, z=2, color=df_score[col],\n",
    "        color_continuous_scale='magenta',title=str(col),\n",
    "        labels={'0': 'PC 1', '1': 'PC 2', '2': 'PC 3'},\n",
    "        height=700\n",
    "    )\n",
    "    )\n",
    "    \n",
    "plt.rcParams['axes.grid'] = False\n",
    "\n",
    "plt.show()"
   ]
  },
  {
   "cell_type": "code",
   "execution_count": null,
   "id": "ded481b5-2fef-420d-b6fd-3c3870475ad9",
   "metadata": {},
   "outputs": [],
   "source": [
    "fig1[0]"
   ]
  },
  {
   "cell_type": "markdown",
   "id": "eee2e8b7-adfb-4522-96c0-a507de58f4e2",
   "metadata": {
    "jp-MarkdownHeadingCollapsed": true,
    "tags": []
   },
   "source": [
    "#### Output"
   ]
  },
  {
   "cell_type": "code",
   "execution_count": null,
   "id": "be641f17-52a9-4ee1-9e5f-366615d3f9b7",
   "metadata": {},
   "outputs": [],
   "source": [
    "df_esiti.replace(('vivo','morto'),(1,2),inplace=True)"
   ]
  },
  {
   "cell_type": "code",
   "execution_count": null,
   "id": "fdb11255-3cc4-455e-a396-54e6e8789612",
   "metadata": {
    "scrolled": true,
    "tags": []
   },
   "outputs": [],
   "source": [
    "fig = plt.figure(figsize=(30,20))\n",
    "\n",
    "for i in range(0,4):\n",
    "    \n",
    "    ax = fig.add_subplot(2, 2, i+1)\n",
    "    col = df_esiti.columns[i]\n",
    "    plot2d = ax.scatter(df_pca_2d_t0.iloc[:, 0], df_pca_2d_t0.iloc[:, 1], c=df_esiti.loc[:,col], cmap=plt.cm.get_cmap('OrRd',len(np.unique(df_esiti[col]))))\n",
    "    plt.xlabel('PC-1')\n",
    "    plt.ylabel('PC-2')\n",
    "    fig.colorbar(plot2d , ticks=range(len(np.unique(df_esiti[col]))+1), label=col )\n",
    "    \n",
    "plt.rcParams['axes.grid'] = False\n",
    "\n",
    "plt.show()"
   ]
  },
  {
   "cell_type": "code",
   "execution_count": null,
   "id": "480678b8-0321-4165-bf49-d1f48a75382f",
   "metadata": {
    "scrolled": true,
    "tags": []
   },
   "outputs": [],
   "source": [
    "\n",
    "fig = plt.figure(figsize=(40,30))\n",
    "\n",
    "fig2 = list()\n",
    "for i in range(0,4):\n",
    "    ax = fig.add_subplot(2, 2, i+1, projection='3d')\n",
    "    col = df_esiti.columns[i]\n",
    "\n",
    "    plot3d = ax.scatter(df_pca_3d_t0.iloc[:, 0], df_pca_3d_t0.iloc[:, 1],df_pca_3d_t0.iloc[:, 2],  c=df_esiti[col],\\\n",
    "               cmap=plt.cm.get_cmap('magma',len(np.unique(df_esiti[col]))))\n",
    "    plt.xlabel('PC-1')\n",
    "    plt.ylabel('PC-2')\n",
    "    fig.colorbar(plot3d ,ticks=range(len(np.unique(df_esiti[col]))+1), label=col)\n",
    "    plt.title(str(i) + \" - \" + str(col))\n",
    "    \n",
    "    fig2.append(px.scatter_3d(\n",
    "        df_pca_3d_t0, x=0, y=1, z=2, color=df_esiti[col],\n",
    "        color_continuous_scale='magenta',title=str(col),\n",
    "        labels={'0': 'PC 1', '1': 'PC 2', '2': 'PC 3'},\n",
    "        height=700\n",
    "    )\n",
    "    )\n",
    "    \n",
    "plt.rcParams['axes.grid'] = False\n",
    "\n",
    "plt.show()"
   ]
  },
  {
   "cell_type": "code",
   "execution_count": null,
   "id": "493ff236-da6b-4058-9a88-e99853fd7348",
   "metadata": {},
   "outputs": [],
   "source": [
    "fig2[1]"
   ]
  },
  {
   "cell_type": "markdown",
   "id": "e1f44171-9b21-4532-b53e-125f4ffa3ba8",
   "metadata": {
    "tags": []
   },
   "source": [
    "#### Vis"
   ]
  },
  {
   "cell_type": "code",
   "execution_count": null,
   "id": "f0d92e92-45b5-4d4d-9b3e-631d23ee401d",
   "metadata": {
    "scrolled": true,
    "tags": []
   },
   "outputs": [],
   "source": [
    "fig = plt.figure(figsize=(30,20))\n",
    "\n",
    "for i in range(0,6):\n",
    "    \n",
    "    ax = fig.add_subplot(3, 2, i+1)\n",
    "    col = df_vis.columns[i]\n",
    "    plot2d = ax.scatter(df_pca_2d_t0.iloc[:, 0], df_pca_2d_t0.iloc[:, 1], c=df_vis.loc[:,col], cmap=plt.cm.get_cmap('cubehelix',len(np.unique(df_vis[col]))))\n",
    "    plt.xlabel('PC-1')\n",
    "    plt.ylabel('PC-2')\n",
    "    fig.colorbar(plot2d , ticks=range(len(np.unique(df_vis[col]))+1), label=col )\n",
    "    \n",
    "plt.rcParams['axes.grid'] = False\n",
    "\n",
    "plt.show()"
   ]
  },
  {
   "cell_type": "code",
   "execution_count": null,
   "id": "bb07ce59-70ca-4d58-9a13-5e3e9fa9bb3e",
   "metadata": {
    "scrolled": true,
    "tags": []
   },
   "outputs": [],
   "source": [
    "\n",
    "fig = plt.figure(figsize=(40,30))\n",
    "\n",
    "fig3 = list()\n",
    "for i in range(0,6):\n",
    "    ax = fig.add_subplot(3, 3, i+1, projection='3d')\n",
    "    col = df_vis.columns[i]\n",
    "\n",
    "    plot3d = ax.scatter(df_pca_3d_t0.iloc[:, 0], df_pca_3d_t0.iloc[:, 1],df_pca_3d_t0.iloc[:, 2],  c=df_vis[col],\\\n",
    "               cmap=plt.cm.get_cmap('RdPu',len(np.unique(df_vis[col]))))\n",
    "    plt.xlabel('PC-1')\n",
    "    plt.ylabel('PC-2')\n",
    "    fig.colorbar(plot3d ,ticks=range(len(np.unique(df_vis[col]))+1), label=col)\n",
    "    plt.title(str(i) + \" - \" + str(col))\n",
    "    \n",
    "    fig3.append(px.scatter_3d(\n",
    "        df_pca_3d_t0, x=0, y=1, z=2, color=df_vis[col],\n",
    "        color_continuous_scale='magenta',title=str(col),\n",
    "        labels={'0': 'PC 1', '1': 'PC 2', '2': 'PC 3'},\n",
    "        height=700\n",
    "    )\n",
    "    )\n",
    "    \n",
    "plt.rcParams['axes.grid'] = False\n",
    "\n",
    "plt.show()"
   ]
  },
  {
   "cell_type": "code",
   "execution_count": null,
   "id": "10cc1158-349f-4fd3-97ad-b297ec6a4168",
   "metadata": {},
   "outputs": [],
   "source": [
    "fig3[1]"
   ]
  },
  {
   "cell_type": "markdown",
   "id": "ae9d387a-cca6-413f-a816-a6392f1788d9",
   "metadata": {
    "jp-MarkdownHeadingCollapsed": true,
    "tags": []
   },
   "source": [
    "## PCA 1gg"
   ]
  },
  {
   "cell_type": "code",
   "execution_count": null,
   "id": "7e3eb336-676d-4032-85f1-dd61d88f213b",
   "metadata": {},
   "outputs": [],
   "source": [
    "df_clinico_12h = df_clinico.iloc[:,df_clinico.columns.get_loc('occhi_gcs_foll_12h'):df_clinico.columns.get_loc('diff_sofa_score_foll_12h')]"
   ]
  },
  {
   "cell_type": "code",
   "execution_count": null,
   "id": "a458da8f-cf03-46ee-bcfa-0df9ecd285fd",
   "metadata": {},
   "outputs": [],
   "source": [
    "df_clinico_24h= df_clinico.iloc[:,df_clinico.columns.get_loc('occhi_gcs_foll_24h'):df_clinico.columns.get_loc('diff_sofa_score_foll_24h')]"
   ]
  },
  {
   "cell_type": "code",
   "execution_count": null,
   "id": "7a4f6f0c-d805-4381-833e-b057295369dd",
   "metadata": {},
   "outputs": [],
   "source": [
    "df_clinico_1gg = pd.merge(df_clinico_tempo0,df_clinico_12h,right_index=True, left_index=True)"
   ]
  },
  {
   "cell_type": "code",
   "execution_count": null,
   "id": "7ff0502f-b613-4442-b5a6-5d6d73541254",
   "metadata": {},
   "outputs": [],
   "source": [
    "df_clinico_1gg = pd.merge(df_clinico_1gg,df_clinico_24h,right_index=True, left_index=True)"
   ]
  },
  {
   "cell_type": "code",
   "execution_count": null,
   "id": "7f36b721-c88f-4603-bae1-f808f497b519",
   "metadata": {},
   "outputs": [],
   "source": [
    "df_clinico_1gg"
   ]
  },
  {
   "cell_type": "code",
   "execution_count": null,
   "id": "4f03cd91-05fd-4106-8c7a-b22e9637733e",
   "metadata": {},
   "outputs": [],
   "source": [
    "minmax_scaler = MinMaxScaler()\n",
    "minmax_scaler.fit(df_clinico_1gg)\n",
    "df_minmax_1gg = minmax_scaler.transform(df_clinico_1gg)"
   ]
  },
  {
   "cell_type": "code",
   "execution_count": null,
   "id": "fb1e4adf-b151-4863-ad19-ec5ca6ad7d20",
   "metadata": {},
   "outputs": [],
   "source": [
    "pca_2d_1gg = PCA(n_components=2).fit(df_minmax_1gg)\n",
    "df_pca_2d_1gg = pd.DataFrame(pca_2d_1gg.transform(df_minmax_1gg))"
   ]
  },
  {
   "cell_type": "code",
   "execution_count": null,
   "id": "e58f01db-c9dc-4aff-babb-f5908f7b2762",
   "metadata": {},
   "outputs": [],
   "source": [
    "pca_3d_1gg = PCA(n_components=3).fit(df_minmax_1gg)\n",
    "df_pca_3d_1gg = pd.DataFrame(pca_3d_1gg.transform(df_minmax_1gg))"
   ]
  },
  {
   "cell_type": "code",
   "execution_count": null,
   "id": "a9f3f5ec-8916-4519-8244-a721e099f9db",
   "metadata": {
    "scrolled": true,
    "tags": []
   },
   "outputs": [],
   "source": [
    "plt.style.use(\"ggplot\") \n",
    "plt.plot(pca_2d_1gg.explained_variance_ratio_, marker='o', color='orange')\n",
    "plt.title('PCA con 2 componenti - giorno 1')\n",
    "plt.xlabel('ordered PCs')\n",
    "plt.ylabel('PVE (%)')\n",
    "plt.show()\n",
    "print(pca_2d_1gg.explained_variance_ratio_)\n",
    "print(np.sum(pca_2d_1gg.explained_variance_ratio_))\n",
    "\n",
    "plt.style.use(\"ggplot\") \n",
    "plt.plot(pca_3d_1gg.explained_variance_ratio_, marker='o', color='purple')\n",
    "plt.title('PCA con 3 componenti - 1 giorno')\n",
    "plt.xlabel('ordered PCs')\n",
    "plt.ylabel('PVE (%)')\n",
    "plt.show()\n",
    "print(pca_3d_1gg.explained_variance_ratio_)\n",
    "print(np.sum(pca_3d_1gg.explained_variance_ratio_))"
   ]
  },
  {
   "cell_type": "markdown",
   "id": "770733a8-bdae-465b-a343-36f0563d0006",
   "metadata": {
    "jp-MarkdownHeadingCollapsed": true,
    "tags": []
   },
   "source": [
    "### Distribuzione delle feature rispetto alle componenti\n",
    "\n",
    "A seguire vediamo come si distribuiscono le feature rispetto alle componenti, le consideriamo ordinate secondo il contributo che danno alla componente "
   ]
  },
  {
   "cell_type": "code",
   "execution_count": null,
   "id": "ba9a1600-aae3-4fcf-ab96-ec08aae24bdb",
   "metadata": {},
   "outputs": [],
   "source": [
    "variance_ratio_2d_1gg = pca_2d_1gg.explained_variance_ratio_\n",
    "cumulative_variance_ratio_2d_1gg = np.cumsum(variance_ratio_2d_1gg)\n",
    "# Get the loadings (coefficients) of each principal component\n",
    "loadings_2d_1gg = pca_2d_1gg.components_"
   ]
  },
  {
   "cell_type": "code",
   "execution_count": null,
   "id": "df09cca0-3a33-4c06-87aa-5d1f3733a406",
   "metadata": {},
   "outputs": [],
   "source": [
    "variance_ratio_3d_1gg = pca_3d_1gg.explained_variance_ratio_\n",
    "cumulative_variance_ratio_3d_1gg = np.cumsum(variance_ratio_3d_1gg)\n",
    "# Get the loadings (coefficients) of each principal component\n",
    "loadings_3d_1gg = pca_3d_1gg.components_"
   ]
  },
  {
   "cell_type": "code",
   "execution_count": null,
   "id": "6f6f9e06-dcb6-4730-87ce-f132ad565a5c",
   "metadata": {
    "scrolled": true,
    "tags": []
   },
   "outputs": [],
   "source": [
    "for j in range(len(loadings_2d_1gg)):\n",
    "    sorted_loadings_2d_1gg = np.argsort(np.abs(loadings_2d_1gg[j]))[::-1]\n",
    "    print(\"Features with highest loadings in Principal Component\", j+1,\"\\n\")\n",
    "    for feature_idx in sorted_loadings_2d_1gg:\n",
    "        print(\"  \", df_clinico_1gg.columns[feature_idx], \": \", loadings_2d_1gg[j][feature_idx])\n",
    "    print(\"\\n\")"
   ]
  },
  {
   "cell_type": "code",
   "execution_count": null,
   "id": "87ec67c5-e236-4295-a0ab-929f5937c0f9",
   "metadata": {
    "scrolled": true,
    "tags": []
   },
   "outputs": [],
   "source": [
    "for j in range(len(loadings_3d_1gg)):\n",
    "    sorted_loadings_3d_1gg = np.argsort(np.abs(loadings_3d_1gg[j]))[::-1]\n",
    "    print(\"Features with highest loadings in Principal Component\", j+1,\"\\n\")\n",
    "    for feature_idx in sorted_loadings_3d_1gg:\n",
    "        print(\"  \", df_clinico_1gg.columns[feature_idx], \": \", loadings_3d_1gg[j][feature_idx])\n",
    "    print(\"\\n\")"
   ]
  },
  {
   "cell_type": "markdown",
   "id": "66d9fd52-b2eb-4283-b693-c80319adcc2b",
   "metadata": {
    "jp-MarkdownHeadingCollapsed": true,
    "tags": []
   },
   "source": [
    "### Plot PCA"
   ]
  },
  {
   "cell_type": "markdown",
   "id": "43c9f983-c873-4985-bd50-57de35caf792",
   "metadata": {
    "jp-MarkdownHeadingCollapsed": true,
    "tags": []
   },
   "source": [
    "#### Score"
   ]
  },
  {
   "cell_type": "code",
   "execution_count": null,
   "id": "6c3ba021-10e1-4629-8a10-8e6d28c91c19",
   "metadata": {
    "scrolled": true,
    "tags": []
   },
   "outputs": [],
   "source": [
    "fig = plt.figure(figsize=(30,20))\n",
    "\n",
    "for i in range(0,12):\n",
    "    \n",
    "    ax = fig.add_subplot(3, 4, i+1)\n",
    "    col = df_score.columns[i]\n",
    "    plot2d = ax.scatter(df_pca_2d_1gg.iloc[:, 0], df_pca_2d_1gg.iloc[:, 1], c=df_score.loc[:,col], cmap=plt.cm.get_cmap('OrRd',len(np.unique(df_score[col]))))\n",
    "    plt.xlabel('PC-1')\n",
    "    plt.ylabel('PC-2')\n",
    "    fig.colorbar(plot2d , ticks=range(len(np.unique(df_score[col]))+1), label=col )\n",
    "    \n",
    "plt.rcParams['axes.grid'] = False\n",
    "\n",
    "plt.show()"
   ]
  },
  {
   "cell_type": "code",
   "execution_count": null,
   "id": "520eb411-8db0-4bf7-99a4-53c74e139eb7",
   "metadata": {
    "scrolled": true,
    "tags": []
   },
   "outputs": [],
   "source": [
    "\n",
    "fig = plt.figure(figsize=(40,30))\n",
    "\n",
    "fig4 = list()\n",
    "for i in range(0,12):\n",
    "    ax = fig.add_subplot(3, 4, i+1, projection='3d')\n",
    "    col = df_score.columns[i]\n",
    "\n",
    "    plot3d = ax.scatter(df_pca_3d_1gg.iloc[:, 0], df_pca_3d_1gg.iloc[:, 1],df_pca_3d_1gg.iloc[:, 2],  c=df_score[col],\\\n",
    "               cmap=plt.cm.get_cmap('RdPu',len(np.unique(df_score[col]))))\n",
    "    plt.xlabel('PC-1')\n",
    "    plt.ylabel('PC-2')\n",
    "    fig.colorbar(plot3d ,ticks=range(len(np.unique(df_score[col]))+1), label=col)\n",
    "    plt.title(str(i) + \" - \" + str(col))\n",
    "    \n",
    "    fig4.append(px.scatter_3d(\n",
    "        df_pca_3d_1gg, x=0, y=1, z=2, color=df_score[col],\n",
    "        color_continuous_scale='magenta',title=str(col),\n",
    "        labels={'0': 'PC 1', '1': 'PC 2', '2': 'PC 3'},\n",
    "        height=700\n",
    "    )\n",
    "    )\n",
    "    \n",
    "plt.rcParams['axes.grid'] = False\n",
    "\n",
    "plt.show()"
   ]
  },
  {
   "cell_type": "code",
   "execution_count": null,
   "id": "58b8e54b-5a4b-4310-b134-86bc8249ab18",
   "metadata": {},
   "outputs": [],
   "source": [
    "fig4[5]"
   ]
  },
  {
   "cell_type": "markdown",
   "id": "25761b6d-b276-4d8b-be7e-f1e567605bbc",
   "metadata": {
    "jp-MarkdownHeadingCollapsed": true,
    "tags": []
   },
   "source": [
    "#### Output"
   ]
  },
  {
   "cell_type": "code",
   "execution_count": null,
   "id": "c52d506b-3dc5-44ea-bd0c-85735fd4144a",
   "metadata": {
    "scrolled": true,
    "tags": []
   },
   "outputs": [],
   "source": [
    "fig = plt.figure(figsize=(30,20))\n",
    "\n",
    "for i in range(0,4):\n",
    "    \n",
    "    ax = fig.add_subplot(2, 2, i+1)\n",
    "    col = df_esiti.columns[i]\n",
    "    plot2d = ax.scatter(df_pca_2d_1gg.iloc[:, 0], df_pca_2d_1gg.iloc[:, 1], c=df_esiti.loc[:,col], cmap=plt.cm.get_cmap('OrRd',len(np.unique(df_esiti[col]))))\n",
    "    plt.xlabel('PC-1')\n",
    "    plt.ylabel('PC-2')\n",
    "    fig.colorbar(plot2d , ticks=range(len(np.unique(df_esiti[col]))+1), label=col )\n",
    "    \n",
    "plt.rcParams['axes.grid'] = False\n",
    "\n",
    "plt.show()"
   ]
  },
  {
   "cell_type": "code",
   "execution_count": null,
   "id": "e46cd44a-445d-4dab-949a-66e04837dddc",
   "metadata": {
    "scrolled": true,
    "tags": []
   },
   "outputs": [],
   "source": [
    "\n",
    "fig = plt.figure(figsize=(40,30))\n",
    "\n",
    "fig5 = list()\n",
    "for i in range(0,4):\n",
    "    ax = fig.add_subplot(2, 2, i+1, projection='3d')\n",
    "    col = df_esiti.columns[i]\n",
    "\n",
    "    plot3d = ax.scatter(df_pca_3d_1gg.iloc[:, 0], df_pca_3d_1gg.iloc[:, 1],df_pca_3d_1gg.iloc[:, 2],  c=df_esiti[col],\\\n",
    "               cmap=plt.cm.get_cmap('RdPu',len(np.unique(df_esiti[col]))))\n",
    "    plt.xlabel('PC-1')\n",
    "    plt.ylabel('PC-2')\n",
    "    fig.colorbar(plot3d ,ticks=range(len(np.unique(df_esiti[col]))+1), label=col)\n",
    "    plt.title(str(i) + \" - \" + str(col))\n",
    "    \n",
    "    fig5.append(px.scatter_3d(\n",
    "        df_pca_3d_1gg, x=0, y=1, z=2, color=df_esiti[col],\n",
    "        color_continuous_scale='magenta',title=str(col),\n",
    "        labels={'0': 'PC 1', '1': 'PC 2', '2': 'PC 3'},\n",
    "        height=700\n",
    "    )\n",
    "    )\n",
    "    \n",
    "plt.rcParams['axes.grid'] = False\n",
    "\n",
    "plt.show()"
   ]
  },
  {
   "cell_type": "code",
   "execution_count": null,
   "id": "6d65b3d0-82aa-4ca0-ba71-e63e2adb93df",
   "metadata": {},
   "outputs": [],
   "source": [
    "fig5[1]"
   ]
  },
  {
   "cell_type": "markdown",
   "id": "d06203b8-536f-4085-97dd-d99856732f38",
   "metadata": {
    "jp-MarkdownHeadingCollapsed": true,
    "tags": []
   },
   "source": [
    "#### Vis"
   ]
  },
  {
   "cell_type": "code",
   "execution_count": null,
   "id": "2b22183a-5421-42aa-852d-ae65e96a0458",
   "metadata": {
    "scrolled": true,
    "tags": []
   },
   "outputs": [],
   "source": [
    "\n",
    "fig = plt.figure(figsize=(40,30))\n",
    "\n",
    "fig6 = list()\n",
    "for i in range(0,6):\n",
    "    ax = fig.add_subplot(3, 3, i+1, projection='3d')\n",
    "    col = df_vis.columns[i]\n",
    "\n",
    "    plot3d = ax.scatter(df_pca_3d_1gg.iloc[:, 0], df_pca_3d_1gg.iloc[:, 1],df_pca_3d_1gg.iloc[:, 2],  c=df_vis[col],\\\n",
    "               cmap=plt.cm.get_cmap('RdPu',len(np.unique(df_vis[col]))))\n",
    "    plt.xlabel('PC-1')\n",
    "    plt.ylabel('PC-2')\n",
    "    fig.colorbar(plot3d ,ticks=range(len(np.unique(df_vis[col]))+1), label=col)\n",
    "    plt.title(str(i) + \" - \" + str(col))\n",
    "    \n",
    "    fig6.append(px.scatter_3d(\n",
    "        df_pca_3d_1gg, x=0, y=1, z=2, color=df_vis[col],\n",
    "        color_continuous_scale='magenta',title=str(col),\n",
    "        labels={'0': 'PC 1', '1': 'PC 2', '2': 'PC 3'},\n",
    "        height=700\n",
    "    )\n",
    "    )\n",
    "    \n",
    "plt.rcParams['axes.grid'] = False\n",
    "\n",
    "plt.show()"
   ]
  },
  {
   "cell_type": "code",
   "execution_count": null,
   "id": "88c3167f-095c-4224-8e7a-e19af84efb58",
   "metadata": {},
   "outputs": [],
   "source": [
    "fig6[5]"
   ]
  },
  {
   "cell_type": "markdown",
   "id": "0d40e28a-1b0e-493a-9093-4b9f8ca4e693",
   "metadata": {
    "jp-MarkdownHeadingCollapsed": true,
    "tags": []
   },
   "source": [
    "## PCA 2gg"
   ]
  },
  {
   "cell_type": "code",
   "execution_count": null,
   "id": "b298d3b5-a443-4f9c-b211-bb3bafa1971d",
   "metadata": {},
   "outputs": [],
   "source": [
    "df_clinico_2 = df_clinico.iloc[:,df_clinico.columns.get_loc('occhi_gcs_foll_2gg'):df_clinico.columns.get_loc('diff_sofa_score_foll_2gg')]"
   ]
  },
  {
   "cell_type": "code",
   "execution_count": null,
   "id": "16f66372-bd06-4ada-bd33-3b1a412add43",
   "metadata": {},
   "outputs": [],
   "source": [
    "df_clinico_2gg = pd.merge(df_clinico_1gg,df_clinico_2,right_index=True, left_index=True)"
   ]
  },
  {
   "cell_type": "code",
   "execution_count": null,
   "id": "63fa86f1-fc2a-4c4c-aaac-864b1a74d27f",
   "metadata": {},
   "outputs": [],
   "source": [
    "df_clinico_2gg"
   ]
  },
  {
   "cell_type": "code",
   "execution_count": null,
   "id": "bb1e3784-25db-407f-ab72-eb5e2dbdb674",
   "metadata": {},
   "outputs": [],
   "source": [
    "minmax_scaler = MinMaxScaler()\n",
    "minmax_scaler.fit(df_clinico_2gg)\n",
    "df_minmax_2gg = minmax_scaler.transform(df_clinico_2gg)"
   ]
  },
  {
   "cell_type": "code",
   "execution_count": null,
   "id": "057ef69a-92cd-4aed-8df3-98593be69529",
   "metadata": {},
   "outputs": [],
   "source": [
    "pca_2d_2gg = PCA(n_components=2).fit(df_minmax_2gg)\n",
    "df_pca_2d_2gg = pd.DataFrame(pca_2d_2gg.transform(df_minmax_2gg))"
   ]
  },
  {
   "cell_type": "code",
   "execution_count": null,
   "id": "efc35e91-d9b0-494f-8194-0e2b8b2c0cdd",
   "metadata": {},
   "outputs": [],
   "source": [
    "pca_3d_2gg = PCA(n_components=3).fit(df_minmax_2gg)\n",
    "df_pca_3d_2gg = pd.DataFrame(pca_3d_2gg.transform(df_minmax_2gg))"
   ]
  },
  {
   "cell_type": "code",
   "execution_count": null,
   "id": "069db61e-c2c8-4c9b-9c91-2df59c628613",
   "metadata": {
    "scrolled": true,
    "tags": []
   },
   "outputs": [],
   "source": [
    "plt.style.use(\"ggplot\") \n",
    "plt.plot(pca_2d_2gg.explained_variance_ratio_, marker='o', color='orange')\n",
    "plt.title('PCA con 2 componenti - giorno 2')\n",
    "plt.xlabel('ordered PCs')\n",
    "plt.ylabel('PVE (%)')\n",
    "plt.show()\n",
    "print(pca_2d_2gg.explained_variance_ratio_)\n",
    "print(np.sum(pca_2d_2gg.explained_variance_ratio_))\n",
    "\n",
    "plt.style.use(\"ggplot\") \n",
    "plt.plot(pca_3d_2gg.explained_variance_ratio_, marker='o', color='purple')\n",
    "plt.title('PCA con 3 componenti - 2 giorno')\n",
    "plt.xlabel('ordered PCs')\n",
    "plt.ylabel('PVE (%)')\n",
    "plt.show()\n",
    "print(pca_3d_2gg.explained_variance_ratio_)\n",
    "print(np.sum(pca_3d_2gg.explained_variance_ratio_))"
   ]
  },
  {
   "cell_type": "markdown",
   "id": "0ab7ef1b-2469-4488-aa18-4081efa45c34",
   "metadata": {
    "jp-MarkdownHeadingCollapsed": true,
    "tags": []
   },
   "source": [
    "### Distribuzione delle feature rispetto alle componenti\n",
    "\n",
    "A seguire vediamo come si distribuiscono le feature rispetto alle componenti, le consideriamo ordinate secondo il contributo che danno alla componente "
   ]
  },
  {
   "cell_type": "code",
   "execution_count": null,
   "id": "35ecdc2a-3521-4e8d-99b5-53f1cf153d8c",
   "metadata": {},
   "outputs": [],
   "source": [
    "variance_ratio_2d_2gg = pca_2d_2gg.explained_variance_ratio_\n",
    "cumulative_variance_ratio_2d_2gg = np.cumsum(variance_ratio_2d_2gg)\n",
    "# Get the loadings (coefficients) of each principal component\n",
    "loadings_2d_2gg = pca_2d_2gg.components_"
   ]
  },
  {
   "cell_type": "code",
   "execution_count": null,
   "id": "4786a75d-098c-4a35-98bf-f4de57ced26a",
   "metadata": {},
   "outputs": [],
   "source": [
    "variance_ratio_3d_2gg = pca_3d_2gg.explained_variance_ratio_\n",
    "cumulative_variance_ratio_3d_2gg = np.cumsum(variance_ratio_3d_2gg)\n",
    "# Get the loadings (coefficients) of each principal component\n",
    "loadings_3d_2gg = pca_3d_2gg.components_"
   ]
  },
  {
   "cell_type": "code",
   "execution_count": null,
   "id": "19ba78f8-614b-4aa4-aa0c-95ff399b9678",
   "metadata": {
    "scrolled": true,
    "tags": []
   },
   "outputs": [],
   "source": [
    "for j in range(len(loadings_2d_2gg)):\n",
    "    sorted_loadings_2d_2gg = np.argsort(np.abs(loadings_2d_2gg[j]))[::-1]\n",
    "    print(\"Features with highest loadings in Principal Component\", j+1,\"\\n\")\n",
    "    for feature_idx in sorted_loadings_2d_2gg:\n",
    "        print(\"  \", df_clinico_2gg.columns[feature_idx], \": \", loadings_2d_2gg[j][feature_idx])\n",
    "    print(\"\\n\")"
   ]
  },
  {
   "cell_type": "code",
   "execution_count": null,
   "id": "4931e94f-af25-452b-8e3d-ed66297c64e9",
   "metadata": {
    "scrolled": true,
    "tags": []
   },
   "outputs": [],
   "source": [
    "for j in range(len(loadings_3d_2gg)):\n",
    "    sorted_loadings_3d_2gg = np.argsort(np.abs(loadings_3d_2gg[j]))[::-1]\n",
    "    print(\"Features with highest loadings in Principal Component\", j+1,\"\\n\")\n",
    "    for feature_idx in sorted_loadings_3d_2gg:\n",
    "        print(\"  \", df_clinico_2gg.columns[feature_idx], \": \", loadings_3d_2gg[j][feature_idx])\n",
    "    print(\"\\n\")"
   ]
  },
  {
   "cell_type": "markdown",
   "id": "1bb8c50b-5360-4da6-bc99-1a893b4b1e7e",
   "metadata": {
    "jp-MarkdownHeadingCollapsed": true,
    "tags": []
   },
   "source": [
    "### Plot PCA"
   ]
  },
  {
   "cell_type": "markdown",
   "id": "8079b484-cf42-4915-88d6-8bcadddf5e06",
   "metadata": {
    "jp-MarkdownHeadingCollapsed": true,
    "tags": []
   },
   "source": [
    "#### Score"
   ]
  },
  {
   "cell_type": "code",
   "execution_count": null,
   "id": "bce04abb-a800-4292-aa6a-e7c7922513b6",
   "metadata": {
    "scrolled": true,
    "tags": []
   },
   "outputs": [],
   "source": [
    "fig = plt.figure(figsize=(30,20))\n",
    "\n",
    "for i in range(0,12):\n",
    "    \n",
    "    ax = fig.add_subplot(3, 4, i+1)\n",
    "    col = df_score.columns[i]\n",
    "    plot2d = ax.scatter(df_pca_2d_2gg.iloc[:, 0], df_pca_2d_2gg.iloc[:, 1], c=df_score.loc[:,col], cmap=plt.cm.get_cmap('OrRd',len(np.unique(df_score[col]))))\n",
    "    plt.xlabel('PC-1')\n",
    "    plt.ylabel('PC-2')\n",
    "    fig.colorbar(plot2d , ticks=range(len(np.unique(df_score[col]))+1), label=col )\n",
    "    \n",
    "plt.rcParams['axes.grid'] = False\n",
    "\n",
    "plt.show()"
   ]
  },
  {
   "cell_type": "code",
   "execution_count": null,
   "id": "efeedcfc-e058-4cc4-b0dd-43ceac3e12c2",
   "metadata": {
    "scrolled": true,
    "tags": []
   },
   "outputs": [],
   "source": [
    "\n",
    "fig = plt.figure(figsize=(40,30))\n",
    "\n",
    "fig7 = list()\n",
    "for i in range(0,12):\n",
    "    ax = fig.add_subplot(3, 4, i+1, projection='3d')\n",
    "    col = df_score.columns[i]\n",
    "\n",
    "    plot3d = ax.scatter(df_pca_3d_2gg.iloc[:, 0], df_pca_3d_2gg.iloc[:, 1],df_pca_3d_2gg.iloc[:, 2],  c=df_score[col],\\\n",
    "               cmap=plt.cm.get_cmap('RdPu',len(np.unique(df_score[col]))))\n",
    "    plt.xlabel('PC-1')\n",
    "    plt.ylabel('PC-2')\n",
    "    fig.colorbar(plot3d ,ticks=range(len(np.unique(df_score[col]))+1), label=col)\n",
    "    plt.title(str(i) + \" - \" + str(col))\n",
    "    \n",
    "    fig7.append(px.scatter_3d(\n",
    "        df_pca_3d_2gg, x=0, y=1, z=2, color=df_score[col],\n",
    "        color_continuous_scale='magenta',title=str(col),\n",
    "        labels={'0': 'PC 1', '1': 'PC 2', '2': 'PC 3'},\n",
    "        height=700\n",
    "    )\n",
    "    )\n",
    "    \n",
    "plt.rcParams['axes.grid'] = False\n",
    "\n",
    "plt.show()"
   ]
  },
  {
   "cell_type": "code",
   "execution_count": null,
   "id": "890fd7ef-95df-47dc-a9a7-d2c6b4311374",
   "metadata": {},
   "outputs": [],
   "source": [
    "fig7[11]"
   ]
  },
  {
   "cell_type": "markdown",
   "id": "05033b09-014e-43e8-a931-cb942f30e153",
   "metadata": {
    "jp-MarkdownHeadingCollapsed": true,
    "tags": []
   },
   "source": [
    "#### Output"
   ]
  },
  {
   "cell_type": "code",
   "execution_count": null,
   "id": "061186ee-c60b-4627-b933-d535aaffc2f2",
   "metadata": {
    "scrolled": true,
    "tags": []
   },
   "outputs": [],
   "source": [
    "fig = plt.figure(figsize=(30,20))\n",
    "\n",
    "for i in range(0,4):\n",
    "    \n",
    "    ax = fig.add_subplot(2, 2, i+1)\n",
    "    col = df_esiti.columns[i]\n",
    "    plot2d = ax.scatter(df_pca_2d_2gg.iloc[:, 0], df_pca_2d_2gg.iloc[:, 1], c=df_esiti.loc[:,col], cmap=plt.cm.get_cmap('Spectral',len(np.unique(df_esiti[col]))))\n",
    "    plt.xlabel('PC-1')\n",
    "    plt.ylabel('PC-2')\n",
    "    fig.colorbar(plot2d , ticks=range(len(np.unique(df_esiti[col]))+1), label=col )\n",
    "    \n",
    "plt.rcParams['axes.grid'] = False\n",
    "\n",
    "plt.show()"
   ]
  },
  {
   "cell_type": "code",
   "execution_count": null,
   "id": "97e578ab-ce52-408f-be18-8a5250fa2222",
   "metadata": {
    "scrolled": true,
    "tags": []
   },
   "outputs": [],
   "source": [
    "\n",
    "fig = plt.figure(figsize=(40,30))\n",
    "\n",
    "fig8 = list()\n",
    "for i in range(0,4):\n",
    "    ax = fig.add_subplot(2, 2, i+1, projection='3d')\n",
    "    col = df_esiti.columns[i]\n",
    "\n",
    "    plot3d = ax.scatter(df_pca_3d_2gg.iloc[:, 0], df_pca_3d_2gg.iloc[:, 1],df_pca_3d_2gg.iloc[:, 2],  c=df_esiti[col],\\\n",
    "               cmap=plt.cm.get_cmap('RdPu',len(np.unique(df_esiti[col]))))\n",
    "    plt.xlabel('PC-1')\n",
    "    plt.ylabel('PC-2')\n",
    "    fig.colorbar(plot3d ,ticks=range(len(np.unique(df_esiti[col]))+1), label=col)\n",
    "    plt.title(str(i) + \" - \" + str(col))\n",
    "    \n",
    "    fig8.append(px.scatter_3d(\n",
    "        df_pca_3d_2gg, x=0, y=1, z=2, color=df_esiti[col],\n",
    "        color_continuous_scale='magenta',title=str(col),\n",
    "        labels={'0': 'PC 1', '1': 'PC 2', '2': 'PC 3'},\n",
    "        height=700\n",
    "    )\n",
    "    )\n",
    "    \n",
    "plt.rcParams['axes.grid'] = False\n",
    "\n",
    "plt.show()"
   ]
  },
  {
   "cell_type": "code",
   "execution_count": null,
   "id": "48e3dbaf-2a3a-4517-8a11-9e69c7da37f9",
   "metadata": {},
   "outputs": [],
   "source": [
    "fig8[2]"
   ]
  },
  {
   "cell_type": "markdown",
   "id": "a9568601-aa03-4c03-a1f0-add6b3c550ee",
   "metadata": {
    "jp-MarkdownHeadingCollapsed": true,
    "tags": []
   },
   "source": [
    "#### Vis"
   ]
  },
  {
   "cell_type": "code",
   "execution_count": null,
   "id": "2d586f5f-dd7e-4101-aa95-91e7f1140673",
   "metadata": {
    "scrolled": true,
    "tags": []
   },
   "outputs": [],
   "source": [
    "\n",
    "fig = plt.figure(figsize=(40,30))\n",
    "\n",
    "fig9 = list()\n",
    "for i in range(0,6):\n",
    "    ax = fig.add_subplot(3, 3, i+1, projection='3d')\n",
    "    col = df_vis.columns[i]\n",
    "\n",
    "    plot3d = ax.scatter(df_pca_3d_2gg.iloc[:, 0], df_pca_3d_2gg.iloc[:, 1],df_pca_3d_2gg.iloc[:, 2],  c=df_vis[col],\\\n",
    "               cmap=plt.cm.get_cmap('RdPu',len(np.unique(df_vis[col]))))\n",
    "    plt.xlabel('PC-1')\n",
    "    plt.ylabel('PC-2')\n",
    "    fig.colorbar(plot3d ,ticks=range(len(np.unique(df_vis[col]))+1), label=col)\n",
    "    plt.title(str(i) + \" - \" + str(col))\n",
    "    \n",
    "    fig9.append(px.scatter_3d(\n",
    "        df_pca_3d_2gg, x=0, y=1, z=2, color=df_vis[col],\n",
    "        color_continuous_scale='magenta',title=str(col),\n",
    "        labels={'0': 'PC 1', '1': 'PC 2', '2': 'PC 3'},\n",
    "        height=700\n",
    "    )\n",
    "    )\n",
    "    \n",
    "plt.rcParams['axes.grid'] = False\n",
    "\n",
    "plt.show()"
   ]
  },
  {
   "cell_type": "code",
   "execution_count": null,
   "id": "7ad303c3-d1c7-4f69-93ce-214515aef7d7",
   "metadata": {},
   "outputs": [],
   "source": [
    "fig9[5]"
   ]
  },
  {
   "cell_type": "markdown",
   "id": "ae3f955d-962b-45c1-85af-17d0f4b1dacc",
   "metadata": {
    "jp-MarkdownHeadingCollapsed": true,
    "tags": []
   },
   "source": [
    "## PCA 3 giorni"
   ]
  },
  {
   "cell_type": "code",
   "execution_count": null,
   "id": "219f44b0-a3da-44f2-9c23-249bb9d6f1fa",
   "metadata": {},
   "outputs": [],
   "source": [
    "df_clinico"
   ]
  },
  {
   "cell_type": "code",
   "execution_count": null,
   "id": "38ce7e86-b964-42e8-8f7e-30b5bab290ff",
   "metadata": {},
   "outputs": [],
   "source": [
    "df_clinico_3 = df_clinico.iloc[:,df_clinico.columns.get_loc('occhi_gcs_foll_3gg'):df_clinico.columns.get_loc('diff_sofa_score_foll_3gg')]"
   ]
  },
  {
   "cell_type": "code",
   "execution_count": null,
   "id": "d5dcd900-081f-4dfa-8938-3f66cd24f364",
   "metadata": {},
   "outputs": [],
   "source": [
    "df_clinico_3gg = pd.merge(df_clinico_2gg,df_clinico_3,right_index=True, left_index=True)"
   ]
  },
  {
   "cell_type": "code",
   "execution_count": null,
   "id": "35162800-3ed3-4bcf-a1d4-3541749dd8ae",
   "metadata": {},
   "outputs": [],
   "source": [
    "df_clinico_3gg"
   ]
  },
  {
   "cell_type": "code",
   "execution_count": null,
   "id": "d0d2a163-dd4a-41b6-bea4-47c0c57b22f3",
   "metadata": {},
   "outputs": [],
   "source": [
    "minmax_scaler = MinMaxScaler()\n",
    "minmax_scaler.fit(df_clinico_3gg)\n",
    "df_minmax_3gg = minmax_scaler.transform(df_clinico_3gg)"
   ]
  },
  {
   "cell_type": "code",
   "execution_count": null,
   "id": "ca6220f7-5fff-4c94-b505-9ece5d0644c3",
   "metadata": {},
   "outputs": [],
   "source": [
    "pca_2d_3gg = PCA(n_components=2).fit(df_minmax_3gg)\n",
    "df_pca_2d_3gg = pd.DataFrame(pca_2d_3gg.transform(df_minmax_3gg))"
   ]
  },
  {
   "cell_type": "code",
   "execution_count": null,
   "id": "a810f3d9-6067-4371-89e9-bd5e1e0053ae",
   "metadata": {},
   "outputs": [],
   "source": [
    "pca_3d_3gg = PCA(n_components=3).fit(df_minmax_3gg)\n",
    "df_pca_3d_3gg = pd.DataFrame(pca_3d_3gg.transform(df_minmax_3gg))"
   ]
  },
  {
   "cell_type": "code",
   "execution_count": null,
   "id": "4f5a77ec-6c0b-4c47-9c39-1e5c26ee9235",
   "metadata": {
    "scrolled": true,
    "tags": []
   },
   "outputs": [],
   "source": [
    "plt.style.use(\"ggplot\") \n",
    "plt.plot(pca_2d_3gg.explained_variance_ratio_, marker='o', color='violet')\n",
    "plt.title('PCA con 2 componenti - giorno 3')\n",
    "plt.xlabel('ordered PCs')\n",
    "plt.ylabel('PVE (%)')\n",
    "plt.show()\n",
    "print(pca_2d_3gg.explained_variance_ratio_)\n",
    "print(np.sum(pca_2d_3gg.explained_variance_ratio_))\n",
    "\n",
    "plt.style.use(\"ggplot\") \n",
    "plt.plot(pca_3d_3gg.explained_variance_ratio_, marker='o', color='pink')\n",
    "plt.title('PCA con 3 componenti - 3 giorno')\n",
    "plt.xlabel('ordered PCs')\n",
    "plt.ylabel('PVE (%)')\n",
    "plt.show()\n",
    "print(pca_3d_3gg.explained_variance_ratio_)\n",
    "print(np.sum(pca_3d_3gg.explained_variance_ratio_))"
   ]
  },
  {
   "cell_type": "markdown",
   "id": "2bf5ee84-41e2-43c8-95e9-3d4bfc182864",
   "metadata": {
    "jp-MarkdownHeadingCollapsed": true,
    "tags": []
   },
   "source": [
    "### Distribuzione delle feature rispetto alle componenti\n",
    "\n",
    "A seguire vediamo come si distribuiscono le feature rispetto alle componenti, le consideriamo ordinate secondo il contributo che danno alla componente "
   ]
  },
  {
   "cell_type": "code",
   "execution_count": null,
   "id": "007a16a3-0f91-4454-9a48-28d499531545",
   "metadata": {},
   "outputs": [],
   "source": [
    "variance_ratio_2d_3gg = pca_2d_3gg.explained_variance_ratio_\n",
    "cumulative_variance_ratio_2d_3gg = np.cumsum(variance_ratio_2d_3gg)\n",
    "# Get the loadings (coefficients) of each principal component\n",
    "loadings_2d_3gg = pca_2d_3gg.components_"
   ]
  },
  {
   "cell_type": "code",
   "execution_count": null,
   "id": "23298104-87c1-4fff-8ed1-a3133ca4be88",
   "metadata": {},
   "outputs": [],
   "source": [
    "variance_ratio_3d_3gg = pca_3d_3gg.explained_variance_ratio_\n",
    "cumulative_variance_ratio_3d_3gg = np.cumsum(variance_ratio_3d_3gg)\n",
    "# Get the loadings (coefficients) of each principal component\n",
    "loadings_3d_3gg = pca_3d_3gg.components_"
   ]
  },
  {
   "cell_type": "code",
   "execution_count": null,
   "id": "f5f800ee-b379-456f-8126-d21b0b9dc670",
   "metadata": {
    "scrolled": true,
    "tags": []
   },
   "outputs": [],
   "source": [
    "for j in range(len(loadings_2d_3gg)):\n",
    "    sorted_loadings_2d_3gg = np.argsort(np.abs(loadings_2d_3gg[j]))[::-1]\n",
    "    print(\"Features with highest loadings in Principal Component\", j+1,\"\\n\")\n",
    "    for feature_idx in sorted_loadings_2d_3gg:\n",
    "        print(\"  \", df_clinico_3gg.columns[feature_idx], \": \", loadings_2d_3gg[j][feature_idx])\n",
    "    print(\"\\n\")"
   ]
  },
  {
   "cell_type": "code",
   "execution_count": null,
   "id": "38b6eb26-c219-42a1-9db0-0b300bb2659f",
   "metadata": {
    "scrolled": true,
    "tags": []
   },
   "outputs": [],
   "source": [
    "for j in range(len(loadings_3d_3gg)):\n",
    "    sorted_loadings_3d_3gg = np.argsort(np.abs(loadings_3d_3gg[j]))[::-1]\n",
    "    print(\"Features with highest loadings in Principal Component\", j+1,\"\\n\")\n",
    "    for feature_idx in sorted_loadings_3d_3gg:\n",
    "        print(\"  \", df_clinico_3gg.columns[feature_idx], \": \", loadings_3d_3gg[j][feature_idx])\n",
    "    print(\"\\n\")"
   ]
  },
  {
   "cell_type": "markdown",
   "id": "dfe62f29-c355-4b25-b8a1-3532356fd485",
   "metadata": {
    "tags": []
   },
   "source": [
    "### Plot PCA"
   ]
  },
  {
   "cell_type": "markdown",
   "id": "53a6ff05-3c41-44b7-b60c-259daebefcb0",
   "metadata": {
    "jp-MarkdownHeadingCollapsed": true,
    "tags": []
   },
   "source": [
    "#### Score"
   ]
  },
  {
   "cell_type": "code",
   "execution_count": null,
   "id": "c6968614-08a7-4bbc-bfe0-84ca40c58835",
   "metadata": {
    "scrolled": true,
    "tags": []
   },
   "outputs": [],
   "source": [
    "fig = plt.figure(figsize=(30,20))\n",
    "\n",
    "for i in range(0,12):\n",
    "    \n",
    "    ax = fig.add_subplot(3, 4, i+1)\n",
    "    col = df_score.columns[i]\n",
    "    plot2d = ax.scatter(df_pca_2d_3gg.iloc[:, 0], df_pca_2d_3gg.iloc[:, 1], c=df_score.loc[:,col], cmap=plt.cm.get_cmap('OrRd',len(np.unique(df_score[col]))))\n",
    "    plt.xlabel('PC-1')\n",
    "    plt.ylabel('PC-2')\n",
    "    fig.colorbar(plot2d , ticks=range(len(np.unique(df_score[col]))+1), label=col )\n",
    "    \n",
    "plt.rcParams['axes.grid'] = False\n",
    "\n",
    "plt.show()"
   ]
  },
  {
   "cell_type": "code",
   "execution_count": null,
   "id": "0cc04549-faa1-4b9a-899a-284250770d69",
   "metadata": {
    "scrolled": true,
    "tags": []
   },
   "outputs": [],
   "source": [
    "\n",
    "fig = plt.figure(figsize=(40,30))\n",
    "\n",
    "fig10 = list()\n",
    "for i in range(0,12):\n",
    "    ax = fig.add_subplot(3, 4, i+1, projection='3d')\n",
    "    col = df_score.columns[i]\n",
    "\n",
    "    plot3d = ax.scatter(df_pca_3d_3gg.iloc[:, 0], df_pca_3d_3gg.iloc[:, 1],df_pca_3d_3gg.iloc[:, 2],  c=df_score[col],\\\n",
    "               cmap=plt.cm.get_cmap('RdPu',len(np.unique(df_score[col]))))\n",
    "    plt.xlabel('PC-1')\n",
    "    plt.ylabel('PC-2')\n",
    "    fig.colorbar(plot3d ,ticks=range(len(np.unique(df_score[col]))+1), label=col)\n",
    "    plt.title(str(i) + \" - \" + str(col))\n",
    "    \n",
    "    fig10.append(px.scatter_3d(\n",
    "        df_pca_3d_3gg, x=0, y=1, z=2, color=df_score[col],\n",
    "        color_continuous_scale='magenta',title=str(col),\n",
    "        labels={'0': 'PC 1', '1': 'PC 2', '2': 'PC 3'},\n",
    "        height=700\n",
    "    )\n",
    "    )\n",
    "    \n",
    "plt.rcParams['axes.grid'] = False\n",
    "\n",
    "plt.show()"
   ]
  },
  {
   "cell_type": "code",
   "execution_count": null,
   "id": "1e616b05-e1cf-4218-84d3-fa7c5a1fe89c",
   "metadata": {},
   "outputs": [],
   "source": [
    "fig10[11]"
   ]
  },
  {
   "cell_type": "markdown",
   "id": "785967df-82a4-4757-8b6d-be275c1e508b",
   "metadata": {
    "tags": []
   },
   "source": [
    "#### Output"
   ]
  },
  {
   "cell_type": "code",
   "execution_count": null,
   "id": "673dbc92-928a-4a10-9152-84111d105c03",
   "metadata": {
    "scrolled": true,
    "tags": []
   },
   "outputs": [],
   "source": [
    "fig = plt.figure(figsize=(30,20))\n",
    "\n",
    "for i in range(0,4):\n",
    "    \n",
    "    ax = fig.add_subplot(2, 2, i+1)\n",
    "    col = df_esiti.columns[i]\n",
    "    plot2d = ax.scatter(df_pca_2d_3gg.iloc[:, 0], df_pca_2d_3gg.iloc[:, 1], c=df_esiti.loc[:,col], cmap=plt.cm.get_cmap('tab20b',len(np.unique(df_esiti[col]))))\n",
    "    plt.xlabel('PC-1')\n",
    "    plt.ylabel('PC-2')\n",
    "    fig.colorbar(plot2d , ticks=range(len(np.unique(df_esiti[col]))+1), label=col )\n",
    "    \n",
    "plt.rcParams['axes.grid'] = False\n",
    "\n",
    "plt.show()"
   ]
  },
  {
   "cell_type": "code",
   "execution_count": null,
   "id": "2d8baa0c-dc68-4e4d-8076-8c7738adffd8",
   "metadata": {
    "scrolled": true,
    "tags": []
   },
   "outputs": [],
   "source": [
    "\n",
    "fig = plt.figure(figsize=(40,30))\n",
    "\n",
    "fig11 = list()\n",
    "for i in range(0,4):\n",
    "    ax = fig.add_subplot(2, 2, i+1, projection='3d')\n",
    "    col = df_esiti.columns[i]\n",
    "\n",
    "    plot3d = ax.scatter(df_pca_3d_3gg.iloc[:, 0], df_pca_3d_3gg.iloc[:, 1],df_pca_3d_3gg.iloc[:, 2],  c=df_esiti[col],\\\n",
    "               cmap=plt.cm.get_cmap('tab20b',len(np.unique(df_esiti[col]))))\n",
    "    plt.xlabel('PC-1')\n",
    "    plt.ylabel('PC-2')\n",
    "    fig.colorbar(plot3d ,ticks=range(len(np.unique(df_esiti[col]))+1), label=col)\n",
    "    plt.title(str(i) + \" - \" + str(col))\n",
    "    \n",
    "    fig11.append(px.scatter_3d(\n",
    "        df_pca_3d_3gg, x=0, y=1, z=2, color=df_esiti[col],\n",
    "        color_continuous_scale='magenta',title=str(col),\n",
    "        labels={'0': 'PC 1', '1': 'PC 2', '2': 'PC 3'},\n",
    "        height=700\n",
    "    )\n",
    "    )\n",
    "    \n",
    "plt.rcParams['axes.grid'] = False\n",
    "\n",
    "plt.show()"
   ]
  },
  {
   "cell_type": "code",
   "execution_count": null,
   "id": "91f487c5-a38c-42b3-bf6a-913e0b271a61",
   "metadata": {},
   "outputs": [],
   "source": [
    "fig11[3]"
   ]
  },
  {
   "cell_type": "markdown",
   "id": "15e492e1-6105-41e3-9ab4-258f7ccd2da8",
   "metadata": {
    "jp-MarkdownHeadingCollapsed": true,
    "tags": []
   },
   "source": [
    "#### Vis"
   ]
  },
  {
   "cell_type": "code",
   "execution_count": null,
   "id": "2cb2ddf9-7721-4dd7-9b4c-78ae72dc579b",
   "metadata": {
    "scrolled": true,
    "tags": []
   },
   "outputs": [],
   "source": [
    "\n",
    "fig = plt.figure(figsize=(40,30))\n",
    "\n",
    "fig12 = list()\n",
    "for i in range(0,6):\n",
    "    ax = fig.add_subplot(3, 3, i+1, projection='3d')\n",
    "    col = df_vis.columns[i]\n",
    "\n",
    "    plot3d = ax.scatter(df_pca_3d_3gg.iloc[:, 0], df_pca_3d_3gg.iloc[:, 1],df_pca_3d_3gg.iloc[:, 2],  c=df_vis[col],\\\n",
    "               cmap=plt.cm.get_cmap('tab20b',len(np.unique(df_vis[col]))))\n",
    "    plt.xlabel('PC-1')\n",
    "    plt.ylabel('PC-2')\n",
    "    fig.colorbar(plot3d ,ticks=range(len(np.unique(df_vis[col]))+1), label=col)\n",
    "    plt.title(str(i) + \" - \" + str(col))\n",
    "    \n",
    "    fig12.append(px.scatter_3d(\n",
    "        df_pca_3d_3gg, x=0, y=1, z=2, color=df_vis[col],\n",
    "        color_continuous_scale='magenta',title=str(col),\n",
    "        labels={'0': 'PC 1', '1': 'PC 2', '2': 'PC 3'},\n",
    "        height=700\n",
    "    )\n",
    "    )\n",
    "    \n",
    "plt.rcParams['axes.grid'] = False\n",
    "\n",
    "plt.show()"
   ]
  },
  {
   "cell_type": "code",
   "execution_count": null,
   "id": "2c3276b6-5a1a-4e2a-8aae-22d31358a35b",
   "metadata": {},
   "outputs": [],
   "source": [
    "fig12[5]"
   ]
  },
  {
   "cell_type": "markdown",
   "id": "8774f390-f845-4747-8ace-2d5202ccd0e3",
   "metadata": {
    "jp-MarkdownHeadingCollapsed": true,
    "tags": []
   },
   "source": [
    "## Extra"
   ]
  },
  {
   "cell_type": "markdown",
   "id": "f4f5bc03-f195-4ee8-9d1b-5dcaf2f48aa2",
   "metadata": {
    "jp-MarkdownHeadingCollapsed": true,
    "tags": []
   },
   "source": [
    "### Anticoagulanti usati in trattamento"
   ]
  },
  {
   "cell_type": "code",
   "execution_count": null,
   "id": "a079f7c5-2729-4399-941a-4448b494adea",
   "metadata": {},
   "outputs": [],
   "source": [
    "anticrrt = df_totale[['antic_crrt','antic_crrt_foll_12h','antic_crrt_foll_24h','antic_crrt_foll_2gg','antic_crrt_foll_3gg']]"
   ]
  },
  {
   "cell_type": "code",
   "execution_count": null,
   "id": "6d4d9d12-8e0f-4418-a5f5-2892e8f6bcc1",
   "metadata": {
    "scrolled": true,
    "tags": []
   },
   "outputs": [],
   "source": [
    "\n",
    "fig = plt.figure(figsize=(40,30))\n",
    "\n",
    "fig13 = list()\n",
    "for i in range(0,5):\n",
    "    ax = fig.add_subplot(3, 3, i+1, projection='3d')\n",
    "    col = anticrrt.columns[i]\n",
    "\n",
    "    plot3d = ax.scatter(df_pca_3d_3gg.iloc[:, 0], df_pca_3d_3gg.iloc[:, 1],df_pca_3d_3gg.iloc[:, 2],  c=anticrrt[col],\\\n",
    "               cmap=plt.cm.get_cmap('RdPu',len(np.unique(anticrrt[col]))))\n",
    "    plt.xlabel('PC-1')\n",
    "    plt.ylabel('PC-2')\n",
    "    fig.colorbar(plot3d ,ticks=range(len(np.unique(anticrrt[col]))+1), label=col)\n",
    "    plt.title(str(i) + \" - \" + str(col))\n",
    "    \n",
    "    fig13.append(px.scatter_3d(\n",
    "        df_pca_3d_3gg, x=0, y=1, z=2, color=anticrrt[col],\n",
    "        color_continuous_scale='magenta',title=str(col),\n",
    "        labels={'0': 'PC 1', '1': 'PC 2', '2': 'PC 3'},\n",
    "        height=700\n",
    "    )\n",
    "    )\n",
    "    \n",
    "plt.rcParams['axes.grid'] = False\n",
    "\n",
    "plt.show()"
   ]
  },
  {
   "cell_type": "code",
   "execution_count": null,
   "id": "1342252a-8c7d-4500-84f5-60d9c09304cf",
   "metadata": {},
   "outputs": [],
   "source": [
    "fig13[0]"
   ]
  },
  {
   "cell_type": "markdown",
   "id": "896f1c46-4f79-4895-90e5-eb8650f002be",
   "metadata": {
    "tags": []
   },
   "source": [
    "### Presenza o meno di sepsi"
   ]
  },
  {
   "cell_type": "code",
   "execution_count": null,
   "id": "2db892bc-7370-4417-bf70-23ed2b48d331",
   "metadata": {},
   "outputs": [],
   "source": [
    "sepsi = df_totale[['sep','sep_foll_12h','sep_foll_24h','sep_foll_2gg','sep_foll_3gg']]"
   ]
  },
  {
   "cell_type": "code",
   "execution_count": null,
   "id": "16504f65-6a96-4650-8d14-258c0fe1e312",
   "metadata": {
    "scrolled": true,
    "tags": []
   },
   "outputs": [],
   "source": [
    "fig = plt.figure(figsize=(40,30))\n",
    "\n",
    "fig14 = list()\n",
    "for i in range(0,5):\n",
    "    ax = fig.add_subplot(3, 3, i+1, projection='3d')\n",
    "    col = sepsi.columns[i]\n",
    "\n",
    "    plot3d = ax.scatter(df_pca_3d_t0.iloc[:, 0], df_pca_3d_t0.iloc[:, 1],df_pca_3d_t0.iloc[:, 2],  c=sepsi[col],\\\n",
    "               cmap=plt.cm.get_cmap('RdPu',len(np.unique(sepsi[col]))))\n",
    "    plt.xlabel('PC-1')\n",
    "    plt.ylabel('PC-2')\n",
    "    fig.colorbar(plot3d ,ticks=range(len(np.unique(sepsi[col]))+1), label=col)\n",
    "    plt.title(str(i) + \" - \" + str(col))\n",
    "    \n",
    "    fig14.append(px.scatter_3d(\n",
    "        df_pca_3d_t0, x=0, y=1, z=2, color=sepsi[col],\n",
    "        color_continuous_scale='magenta',title=str(col),\n",
    "        labels={'0': 'PC 1', '1': 'PC 2', '2': 'PC 3'},\n",
    "        height=700\n",
    "    )\n",
    "    )\n",
    "    \n",
    "plt.rcParams['axes.grid'] = False\n",
    "\n",
    "plt.show()"
   ]
  },
  {
   "cell_type": "code",
   "execution_count": null,
   "id": "f5880357-30fa-4aa9-96e8-cb291d5f3d57",
   "metadata": {},
   "outputs": [],
   "source": [
    "fig14[1]"
   ]
  },
  {
   "cell_type": "markdown",
   "id": "cfadeb6b-0e20-417d-b0a3-77e6ec54cd33",
   "metadata": {
    "tags": []
   },
   "source": [
    "# K-mean"
   ]
  },
  {
   "cell_type": "markdown",
   "id": "78f74f32-9339-47c1-a8e0-0ca29a23afe6",
   "metadata": {
    "tags": []
   },
   "source": [
    "## Tempo 0"
   ]
  },
  {
   "cell_type": "code",
   "execution_count": null,
   "id": "0c5ee2b0-9878-4a18-b8d4-9486a6b2bee3",
   "metadata": {},
   "outputs": [],
   "source": [
    "K=2\n",
    "kmeans_model = KMeans(n_clusters=K, init='random', n_init=10)\n",
    "kmeans_model.fit(df_minmax_tempo0)\n",
    "y = kmeans_model.labels_\n",
    "\n",
    "\n",
    "silhouette_avg = silhouette_score(df_minmax_tempo0, y) #silhouette media\n",
    "sample_silhouette_values = silhouette_samples(df_minmax_tempo0, y)\n",
    "\n",
    "print(f'overall clustering silhouette {silhouette_avg}')\n",
    "\n",
    "fig, ax = plt.subplots(1,2,figsize=(15,5))\n",
    "\n",
    "y_lower = 0 \n",
    "y_upper = 0\n",
    "for i,cluster in enumerate(np.unique(y)):\n",
    "    cluster_silhouette_vals = sample_silhouette_values[y == cluster]\n",
    "    cluster_silhouette_vals.sort()\n",
    "    cluster_silhouette_mean=cluster_silhouette_vals.mean()\n",
    "    y_upper += len(cluster_silhouette_vals)\n",
    "    color = cm.nipy_spectral(float(i) / K)\n",
    "    ax[0].barh(range(y_lower,y_upper), cluster_silhouette_vals, height=1, color=color)\n",
    "    ax[0].text(-0.03, (y_lower+y_upper)/2, str(i))\n",
    "    ax[0].text(silhouette_avg+0.03, y_lower, cluster_silhouette_mean)  \n",
    "    y_lower += len(cluster_silhouette_vals)\n",
    "\n",
    "ax[0].axvline(silhouette_avg, linestyle ='--', linewidth =2, color = 'red')\n",
    "colors = cm.nipy_spectral(y.astype(float) / K)\n",
    "\n",
    "ax[1].scatter(df_pca_2d_t0.iloc[:, 0], df_pca_2d_t0.iloc[:, 1], c=colors)\n"
   ]
  },
  {
   "cell_type": "code",
   "execution_count": null,
   "id": "562d5d5b-073a-43d4-a6eb-7c8862d2abe5",
   "metadata": {},
   "outputs": [],
   "source": [
    "K=2\n",
    "kmeans_model = KMeans(n_clusters=K, init='random', n_init=10)\n",
    "kmeans_model.fit(df_minmax_tempo0)\n",
    "y = kmeans_model.labels_\n",
    "\n",
    "\n",
    "silhouette_avg = silhouette_score(df_minmax_tempo0, y) #silhouette media\n",
    "sample_silhouette_values = silhouette_samples(df_minmax_tempo0, y)\n",
    "\n",
    "print(f'overall clustering silhouette {silhouette_avg}')\n",
    "\n",
    "y_lower = 0 \n",
    "y_upper = 0\n",
    "for i,cluster in enumerate(np.unique(y)):\n",
    "    cluster_silhouette_vals = sample_silhouette_values[y == cluster]\n",
    "    cluster_silhouette_vals.sort()\n",
    "    cluster_silhouette_mean=cluster_silhouette_vals.mean()\n",
    "    y_upper += len(cluster_silhouette_vals)\n",
    "    color = cm.nipy_spectral(float(i) / K)\n",
    "    plt.barh(range(y_lower,y_upper), cluster_silhouette_vals, height=1, color=color)\n",
    "    plt.text(-0.03, (y_lower+y_upper)/2, str(i))\n",
    "    plt.text(silhouette_avg+0.03, y_lower, cluster_silhouette_mean)  \n",
    "    y_lower += len(cluster_silhouette_vals)\n",
    "\n",
    "plt.axvline(silhouette_avg, linestyle ='--', linewidth =2, color = 'red')\n",
    "colors = cm.nipy_spectral(y.astype(float) / K)\n",
    "plt.show()\n",
    "\n",
    "px.scatter_3d(\n",
    "        df_pca_3d_t0, x=0, y=1, z=2, color=y,\n",
    "        labels={'0': 'PC 1', '1': 'PC 2', '2': 'PC 3'},\n",
    "        height=700\n",
    "    )"
   ]
  },
  {
   "cell_type": "markdown",
   "id": "3f859553-aed2-4c63-b8ca-d4def9f2d71e",
   "metadata": {
    "jp-MarkdownHeadingCollapsed": true,
    "tags": []
   },
   "source": [
    "## 1 Giorno"
   ]
  },
  {
   "cell_type": "code",
   "execution_count": null,
   "id": "4f1e0064-3aa9-403a-ac23-110420649db3",
   "metadata": {},
   "outputs": [],
   "source": [
    "K=2\n",
    "kmeans_model = KMeans(n_clusters=K, init='random', n_init=10)\n",
    "kmeans_model.fit(df_minmax_1gg)\n",
    "y = kmeans_model.labels_\n",
    "\n",
    "\n",
    "silhouette_avg = silhouette_score(df_minmax_1gg, y) #silhouette media\n",
    "sample_silhouette_values = silhouette_samples(df_minmax_1gg, y)\n",
    "\n",
    "print(f'overall clustering silhouette {silhouette_avg}')\n",
    "\n",
    "fig, ax = plt.subplots(1,2,figsize=(15,5))\n",
    "\n",
    "y_lower = 0 \n",
    "y_upper = 0\n",
    "for i,cluster in enumerate(np.unique(y)):\n",
    "    cluster_silhouette_vals = sample_silhouette_values[y == cluster]\n",
    "    cluster_silhouette_vals.sort()\n",
    "    cluster_silhouette_mean=cluster_silhouette_vals.mean()\n",
    "    y_upper += len(cluster_silhouette_vals)\n",
    "    color = cm.nipy_spectral(float(i) / K)\n",
    "    ax[0].barh(range(y_lower,y_upper), cluster_silhouette_vals, height=1, color=color)\n",
    "    ax[0].text(-0.03, (y_lower+y_upper)/2, str(i))\n",
    "    ax[0].text(silhouette_avg+0.03, y_lower, cluster_silhouette_mean)  \n",
    "    y_lower += len(cluster_silhouette_vals)\n",
    "\n",
    "ax[0].axvline(silhouette_avg, linestyle ='--', linewidth =2, color = 'red')\n",
    "colors = cm.nipy_spectral(y.astype(float) / K)\n",
    "\n",
    "ax[1].scatter(df_pca_2d_1gg.iloc[:, 0], df_pca_2d_1gg.iloc[:, 1], c=colors)\n"
   ]
  },
  {
   "cell_type": "code",
   "execution_count": null,
   "id": "6da7a046-5e89-4ce1-9686-0bc9d00d8bf8",
   "metadata": {},
   "outputs": [],
   "source": [
    "K=3\n",
    "kmeans_model = KMeans(n_clusters=K, init='random', n_init=10)\n",
    "kmeans_model.fit(df_minmax_1gg)\n",
    "y = kmeans_model.labels_\n",
    "\n",
    "\n",
    "silhouette_avg = silhouette_score(df_minmax_1gg, y) #silhouette media\n",
    "sample_silhouette_values = silhouette_samples(df_minmax_1gg, y)\n",
    "\n",
    "print(f'overall clustering silhouette {silhouette_avg}')\n",
    "\n",
    "\n",
    "y_lower = 0 \n",
    "y_upper = 0\n",
    "for i,cluster in enumerate(np.unique(y)):\n",
    "    cluster_silhouette_vals = sample_silhouette_values[y == cluster]\n",
    "    cluster_silhouette_vals.sort()\n",
    "    cluster_silhouette_mean=cluster_silhouette_vals.mean()\n",
    "    y_upper += len(cluster_silhouette_vals)\n",
    "    color = cm.nipy_spectral(float(i) / K)\n",
    "    plt.barh(range(y_lower,y_upper), cluster_silhouette_vals, height=1, color=color)\n",
    "    plt.text(-0.03, (y_lower+y_upper)/2, str(i))\n",
    "    plt.text(silhouette_avg+0.03, y_lower, cluster_silhouette_mean)  \n",
    "    y_lower += len(cluster_silhouette_vals)\n",
    "\n",
    "plt.axvline(silhouette_avg, linestyle ='--', linewidth =2, color = 'red')\n",
    "colors = cm.nipy_spectral(y.astype(float) / K)\n",
    "plt.show()\n",
    "\n",
    "px.scatter_3d(\n",
    "        df_pca_3d_1gg, x=0, y=1, z=2, color=y,\n",
    "        labels={'0': 'PC 1', '1': 'PC 2', '2': 'PC 3'},\n",
    "        height=700\n",
    "    )"
   ]
  },
  {
   "cell_type": "markdown",
   "id": "87aa6e78-1cce-46f8-b2f4-e8d817a33b4d",
   "metadata": {
    "jp-MarkdownHeadingCollapsed": true,
    "tags": []
   },
   "source": [
    "## 2 Giorni"
   ]
  },
  {
   "cell_type": "code",
   "execution_count": null,
   "id": "32b09fb7-c683-405c-9f9a-ebbba43af74e",
   "metadata": {},
   "outputs": [],
   "source": [
    "K=2\n",
    "kmeans_model = KMeans(n_clusters=K, init='random', n_init=10)\n",
    "kmeans_model.fit(df_minmax_2gg)\n",
    "y = kmeans_model.labels_\n",
    "\n",
    "\n",
    "silhouette_avg = silhouette_score(df_minmax_2gg, y) #silhouette media\n",
    "sample_silhouette_values = silhouette_samples(df_minmax_2gg, y)\n",
    "\n",
    "print(f'overall clustering silhouette {silhouette_avg}')\n",
    "\n",
    "fig, ax = plt.subplots(1,2,figsize=(15,5))\n",
    "\n",
    "y_lower = 0 \n",
    "y_upper = 0\n",
    "for i,cluster in enumerate(np.unique(y)):\n",
    "    cluster_silhouette_vals = sample_silhouette_values[y == cluster]\n",
    "    cluster_silhouette_vals.sort()\n",
    "    cluster_silhouette_mean=cluster_silhouette_vals.mean()\n",
    "    y_upper += len(cluster_silhouette_vals)\n",
    "    color = cm.nipy_spectral(float(i) / K)\n",
    "    ax[0].barh(range(y_lower,y_upper), cluster_silhouette_vals, height=1, color=color)\n",
    "    ax[0].text(-0.03, (y_lower+y_upper)/2, str(i))\n",
    "    ax[0].text(silhouette_avg+0.03, y_lower, cluster_silhouette_mean)  \n",
    "    y_lower += len(cluster_silhouette_vals)\n",
    "\n",
    "ax[0].axvline(silhouette_avg, linestyle ='--', linewidth =2, color = 'red')\n",
    "colors = cm.nipy_spectral(y.astype(float) / K)\n",
    "\n",
    "ax[1].scatter(df_pca_2d_2gg.iloc[:, 0], df_pca_2d_2gg.iloc[:, 1], c=colors)\n"
   ]
  },
  {
   "cell_type": "code",
   "execution_count": null,
   "id": "067b22bd-d6a0-4af7-9edd-9775152feb73",
   "metadata": {},
   "outputs": [],
   "source": [
    "K=3\n",
    "kmeans_model = KMeans(n_clusters=K, init='random', n_init=10)\n",
    "kmeans_model.fit(df_minmax_2gg)\n",
    "y = kmeans_model.labels_\n",
    "\n",
    "\n",
    "silhouette_avg = silhouette_score(df_minmax_2gg, y) #silhouette media\n",
    "sample_silhouette_values = silhouette_samples(df_minmax_2gg, y)\n",
    "\n",
    "print(f'overall clustering silhouette {silhouette_avg}')\n",
    "\n",
    "y_lower = 0 \n",
    "y_upper = 0\n",
    "for i,cluster in enumerate(np.unique(y)):\n",
    "    cluster_silhouette_vals = sample_silhouette_values[y == cluster]\n",
    "    cluster_silhouette_vals.sort()\n",
    "    cluster_silhouette_mean=cluster_silhouette_vals.mean()\n",
    "    y_upper += len(cluster_silhouette_vals)\n",
    "    color = cm.nipy_spectral(float(i) / K)\n",
    "    plt.barh(range(y_lower,y_upper), cluster_silhouette_vals, height=1, color=color)\n",
    "    plt.text(-0.03, (y_lower+y_upper)/2, str(i))\n",
    "    plt.text(silhouette_avg+0.03, y_lower, cluster_silhouette_mean)  \n",
    "    y_lower += len(cluster_silhouette_vals)\n",
    "\n",
    "plt.axvline(silhouette_avg, linestyle ='--', linewidth =2, color = 'red')\n",
    "colors = cm.nipy_spectral(y.astype(float) / K)\n",
    "plt.show()\n",
    "\n",
    "px.scatter_3d(\n",
    "        df_pca_3d_2gg, x=0, y=1, z=2, color=y,\n",
    "        labels={'0': 'PC 1', '1': 'PC 2', '2': 'PC 3'},\n",
    "        height=700\n",
    "    )"
   ]
  },
  {
   "cell_type": "markdown",
   "id": "afcbc10b-0bc4-4b4c-8849-1f15c003782c",
   "metadata": {
    "jp-MarkdownHeadingCollapsed": true,
    "tags": []
   },
   "source": [
    "## 3 Giorni"
   ]
  },
  {
   "cell_type": "code",
   "execution_count": null,
   "id": "7cbc835d-7459-4a1a-ada1-8218dc104adb",
   "metadata": {},
   "outputs": [],
   "source": [
    "K=2\n",
    "kmeans_model = KMeans(n_clusters=K, init='random', n_init=10)\n",
    "kmeans_model.fit(df_minmax_3gg)\n",
    "y = kmeans_model.labels_\n",
    "\n",
    "\n",
    "silhouette_avg = silhouette_score(df_minmax_3gg, y) #silhouette media\n",
    "sample_silhouette_values = silhouette_samples(df_minmax_3gg, y)\n",
    "\n",
    "print(f'overall clustering silhouette {silhouette_avg}')\n",
    "\n",
    "fig, ax = plt.subplots(1,2,figsize=(15,5))\n",
    "\n",
    "y_lower = 0 \n",
    "y_upper = 0\n",
    "for i,cluster in enumerate(np.unique(y)):\n",
    "    cluster_silhouette_vals = sample_silhouette_values[y == cluster]\n",
    "    cluster_silhouette_vals.sort()\n",
    "    cluster_silhouette_mean=cluster_silhouette_vals.mean()\n",
    "    y_upper += len(cluster_silhouette_vals)\n",
    "    color = cm.nipy_spectral(float(i) / K)\n",
    "    ax[0].barh(range(y_lower,y_upper), cluster_silhouette_vals, height=1, color=color)\n",
    "    ax[0].text(-0.03, (y_lower+y_upper)/2, str(i))\n",
    "    ax[0].text(silhouette_avg+0.03, y_lower, cluster_silhouette_mean)  \n",
    "    y_lower += len(cluster_silhouette_vals)\n",
    "\n",
    "ax[0].axvline(silhouette_avg, linestyle ='--', linewidth =2, color = 'red')\n",
    "colors = cm.nipy_spectral(y.astype(float) / K)\n",
    "\n",
    "ax[1].scatter(df_pca_2d_3gg.iloc[:, 0], df_pca_2d_3gg.iloc[:, 1], c=colors)\n"
   ]
  },
  {
   "cell_type": "code",
   "execution_count": null,
   "id": "b7bb4e6f-b1d2-4586-9467-f6bc14e774d2",
   "metadata": {},
   "outputs": [],
   "source": [
    "K=3\n",
    "kmeans_model = KMeans(n_clusters=K, init='random', n_init=30)\n",
    "kmeans_model.fit(df_minmax_3gg)\n",
    "y = kmeans_model.labels_\n",
    "\n",
    "\n",
    "silhouette_avg = silhouette_score(df_minmax_3gg, y) #silhouette media\n",
    "sample_silhouette_values = silhouette_samples(df_minmax_3gg, y)\n",
    "\n",
    "print(f'overall clustering silhouette {silhouette_avg}')\n",
    "\n",
    "y_lower = 0 \n",
    "y_upper = 0\n",
    "for i,cluster in enumerate(np.unique(y)):\n",
    "    cluster_silhouette_vals = sample_silhouette_values[y == cluster]\n",
    "    cluster_silhouette_vals.sort()\n",
    "    cluster_silhouette_mean=cluster_silhouette_vals.mean()\n",
    "    y_upper += len(cluster_silhouette_vals)\n",
    "    color = cm.nipy_spectral(float(i) / K)\n",
    "    plt.barh(range(y_lower,y_upper), cluster_silhouette_vals, height=1, color=color)\n",
    "    plt.text(-0.03, (y_lower+y_upper)/2, str(i))\n",
    "    plt.text(silhouette_avg+0.03, y_lower, cluster_silhouette_mean)  \n",
    "    y_lower += len(cluster_silhouette_vals)\n",
    "\n",
    "plt.axvline(silhouette_avg, linestyle ='--', linewidth =2, color = 'red')\n",
    "colors = cm.nipy_spectral(y.astype(float) / K)\n",
    "plt.show()\n",
    "\n",
    "px.scatter_3d(\n",
    "        df_pca_3d_3gg, x=0, y=1, z=2, color=y,\n",
    "        labels={'0': 'PC 1', '1': 'PC 2', '2': 'PC 3'},\n",
    "        height=700\n",
    "    )"
   ]
  },
  {
   "cell_type": "code",
   "execution_count": null,
   "id": "4e4dcf11-4d11-4046-9153-c2e2c5c2aa0a",
   "metadata": {},
   "outputs": [],
   "source": [
    "K=2\n",
    "kmeans_model = KMeans(n_clusters=K, init='random', n_init=30)\n",
    "kmeans_model.fit(df_minmax_3gg)\n",
    "y = kmeans_model.labels_\n",
    "\n",
    "\n",
    "silhouette_avg = silhouette_score(df_minmax_3gg, y) #silhouette media\n",
    "sample_silhouette_values = silhouette_samples(df_minmax_3gg, y)\n",
    "\n",
    "print(f'overall clustering silhouette {silhouette_avg}')\n",
    "\n",
    "y_lower = 0 \n",
    "y_upper = 0\n",
    "for i,cluster in enumerate(np.unique(y)):\n",
    "    cluster_silhouette_vals = sample_silhouette_values[y == cluster]\n",
    "    cluster_silhouette_vals.sort()\n",
    "    cluster_silhouette_mean=cluster_silhouette_vals.mean()\n",
    "    y_upper += len(cluster_silhouette_vals)\n",
    "    color = cm.nipy_spectral(float(i) / K)\n",
    "    plt.barh(range(y_lower,y_upper), cluster_silhouette_vals, height=1, color=color)\n",
    "    plt.text(-0.03, (y_lower+y_upper)/2, str(i))\n",
    "    plt.text(silhouette_avg+0.03, y_lower, cluster_silhouette_mean)  \n",
    "    y_lower += len(cluster_silhouette_vals)\n",
    "\n",
    "plt.axvline(silhouette_avg, linestyle ='--', linewidth =2, color = 'red')\n",
    "colors = cm.nipy_spectral(y.astype(float) / K)\n",
    "plt.show()\n",
    "\n",
    "px.scatter_3d(\n",
    "        df_pca_3d_3gg, x=0, y=1, z=2, color=y,\n",
    "        labels={'0': 'PC 1', '1': 'PC 2', '2': 'PC 3'},\n",
    "        height=700\n",
    "    )"
   ]
  },
  {
   "cell_type": "markdown",
   "id": "a518c7c2-c8aa-4414-8d56-89f121e06ca5",
   "metadata": {},
   "source": [
    "**DA FARE**"
   ]
  },
  {
   "cell_type": "markdown",
   "id": "29de34ff-0008-4caf-a612-2350c2f41cdb",
   "metadata": {},
   "source": [
    "1. Percentuale mortalità rispetto al cluster\n",
    "2. Percentuale di mortalità a pari del sofa score e sepsi\n",
    "3. Ascisse feature ordinate valore percentuale sulle prime 30 regolarsi sul calo percentuale"
   ]
  },
  {
   "cell_type": "code",
   "execution_count": null,
   "id": "26f31051-038b-4c9c-9d32-15df96f2514a",
   "metadata": {},
   "outputs": [],
   "source": []
  }
 ],
 "metadata": {
  "kernelspec": {
   "display_name": "Python 3.8.5 64-bit ('base': conda)",
   "language": "python",
   "name": "python385jvsc74a57bd0d99f57a4e7965aa87493ab34ca6d6c21d8e704820f49870e94f850b8c992837f"
  },
  "language_info": {
   "codemirror_mode": {
    "name": "ipython",
    "version": 3
   },
   "file_extension": ".py",
   "mimetype": "text/x-python",
   "name": "python",
   "nbconvert_exporter": "python",
   "pygments_lexer": "ipython3",
   "version": "3.9.12"
  }
 },
 "nbformat": 4,
 "nbformat_minor": 5
}
