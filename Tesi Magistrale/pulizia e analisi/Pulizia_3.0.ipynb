{
 "cells": [
  {
   "cell_type": "code",
   "execution_count": 1,
   "id": "f306b2bf-5c67-43ed-b67b-a88bb53656f3",
   "metadata": {},
   "outputs": [],
   "source": [
    "import pandas as pd\n",
    "import numpy as np\n",
    "import seaborn as sb\n",
    "import matplotlib.pyplot as plt\n",
    "import matplotlib.ticker as mtick\n",
    "import seaborn as sns\n",
    "import math\n",
    "\n",
    "pd.options.mode.chained_assignment = None"
   ]
  },
  {
   "cell_type": "markdown",
   "id": "1b1bd452-232c-4474-9cc8-b09a1bb7823c",
   "metadata": {
    "tags": []
   },
   "source": [
    "## Crezione DataSet e analisi preliminari"
   ]
  },
  {
   "cell_type": "code",
   "execution_count": 2,
   "id": "90d4c64d-dc1e-46a9-85ff-9bbfe193508d",
   "metadata": {},
   "outputs": [],
   "source": [
    "dati =pd.read_excel('reportCompleto.xlsx')"
   ]
  },
  {
   "cell_type": "code",
   "execution_count": 3,
   "id": "bd3fb9c5-36c5-4ec8-a4f3-9cd84c9d2a5d",
   "metadata": {},
   "outputs": [],
   "source": [
    "dati.drop(columns=['Unnamed: 0'],axis=1,inplace=True)"
   ]
  },
  {
   "cell_type": "code",
   "execution_count": 4,
   "id": "0cb2e8dd-35c4-43f5-89cd-e2111ade4aec",
   "metadata": {},
   "outputs": [],
   "source": [
    "colonne_vuote = list()\n",
    "\n",
    "for column in dati.columns:\n",
    "    if dati[column].isnull().all():\n",
    "        colonne_vuote.append(column)"
   ]
  },
  {
   "cell_type": "code",
   "execution_count": 5,
   "id": "00731356-802c-4125-8399-0992dd033449",
   "metadata": {},
   "outputs": [],
   "source": [
    "dati.drop(columns=colonne_vuote,axis=1,inplace=True)"
   ]
  },
  {
   "cell_type": "code",
   "execution_count": 6,
   "id": "840c4e97-f6c6-4e11-a3b8-1ea112b540e9",
   "metadata": {},
   "outputs": [
    {
     "data": {
      "text/plain": [
       "(290, 2150)"
      ]
     },
     "execution_count": 6,
     "metadata": {},
     "output_type": "execute_result"
    }
   ],
   "source": [
    "dati.shape"
   ]
  },
  {
   "cell_type": "code",
   "execution_count": 7,
   "id": "478504dc-f0bc-4a8a-ac6b-5410ce3c3546",
   "metadata": {},
   "outputs": [],
   "source": [
    "index_horowitz = dati['record_id'].loc[dati['horowitz'].isnull()].index"
   ]
  },
  {
   "cell_type": "code",
   "execution_count": 8,
   "id": "43489b8b-ec03-4c21-9baa-64dd2aa4c10a",
   "metadata": {},
   "outputs": [
    {
     "data": {
      "text/plain": [
       "Int64Index([170, 185, 188, 192, 193, 206, 207, 253, 275], dtype='int64')"
      ]
     },
     "execution_count": 8,
     "metadata": {},
     "output_type": "execute_result"
    }
   ],
   "source": [
    "index_horowitz"
   ]
  },
  {
   "cell_type": "code",
   "execution_count": 9,
   "id": "7b4156ad-495e-49fd-9505-1cd87d359781",
   "metadata": {},
   "outputs": [],
   "source": [
    "dati.drop(index_horowitz,inplace=True)\n",
    "dati.reset_index(inplace=True)\n",
    "dati.drop(columns=('index'),inplace=True)"
   ]
  },
  {
   "cell_type": "code",
   "execution_count": 10,
   "id": "4f3dea63-84f0-4a18-9939-7dd4f6141f45",
   "metadata": {},
   "outputs": [],
   "source": [
    "index_eisto= dati[['esito_ti','dimissione','decesso']].loc[(dati['dimissione'].isnull()) & (dati['decesso'].isnull())].index"
   ]
  },
  {
   "cell_type": "code",
   "execution_count": 11,
   "id": "d82b9965-3eb1-4c9e-a976-99494d5a4e93",
   "metadata": {},
   "outputs": [],
   "source": [
    "dati.drop(index_eisto,inplace=True)\n",
    "dati.reset_index(inplace=True)\n",
    "dati.drop(columns=('index'),inplace=True)"
   ]
  },
  {
   "cell_type": "code",
   "execution_count": 12,
   "id": "b28be8cd-3784-45bf-97d2-be8af6df3e9d",
   "metadata": {},
   "outputs": [
    {
     "data": {
      "text/html": [
       "<div>\n",
       "<style scoped>\n",
       "    .dataframe tbody tr th:only-of-type {\n",
       "        vertical-align: middle;\n",
       "    }\n",
       "\n",
       "    .dataframe tbody tr th {\n",
       "        vertical-align: top;\n",
       "    }\n",
       "\n",
       "    .dataframe thead th {\n",
       "        text-align: right;\n",
       "    }\n",
       "</style>\n",
       "<table border=\"1\" class=\"dataframe\">\n",
       "  <thead>\n",
       "    <tr style=\"text-align: right;\">\n",
       "      <th></th>\n",
       "      <th>record_id</th>\n",
       "      <th>redcap_data_access_group</th>\n",
       "      <th>ricovero</th>\n",
       "      <th>tip_paz</th>\n",
       "      <th>tip_ricov_chirurg</th>\n",
       "      <th>tip_paz_chirurgico</th>\n",
       "      <th>tip_paz_chrurgico_altro</th>\n",
       "      <th>obiet_ricov_ti___1</th>\n",
       "      <th>obiet_ricov_ti___2</th>\n",
       "      <th>obiet_ricov_ti___3</th>\n",
       "      <th>...</th>\n",
       "      <th>dose_totale</th>\n",
       "      <th>ultrafiltr_totale</th>\n",
       "      <th>rac_cam_out</th>\n",
       "      <th>tip_camp_out___1</th>\n",
       "      <th>tip_camp_out___2</th>\n",
       "      <th>tip_camp_out___3</th>\n",
       "      <th>tip_camp_out___4</th>\n",
       "      <th>tip_camp_al_out</th>\n",
       "      <th>q_camp_out</th>\n",
       "      <th>outcome_ti_complete</th>\n",
       "    </tr>\n",
       "  </thead>\n",
       "  <tbody>\n",
       "    <tr>\n",
       "      <th>0</th>\n",
       "      <td>4</td>\n",
       "      <td>NaN</td>\n",
       "      <td>2021-05-15</td>\n",
       "      <td>1</td>\n",
       "      <td>NaN</td>\n",
       "      <td>NaN</td>\n",
       "      <td>NaN</td>\n",
       "      <td>1</td>\n",
       "      <td>0</td>\n",
       "      <td>0</td>\n",
       "      <td>...</td>\n",
       "      <td>NaN</td>\n",
       "      <td>NaN</td>\n",
       "      <td>0.0</td>\n",
       "      <td>0</td>\n",
       "      <td>0</td>\n",
       "      <td>0</td>\n",
       "      <td>0</td>\n",
       "      <td>NaN</td>\n",
       "      <td>NaN</td>\n",
       "      <td>2</td>\n",
       "    </tr>\n",
       "    <tr>\n",
       "      <th>1</th>\n",
       "      <td>5</td>\n",
       "      <td>NaN</td>\n",
       "      <td>2021-02-07</td>\n",
       "      <td>1</td>\n",
       "      <td>NaN</td>\n",
       "      <td>NaN</td>\n",
       "      <td>NaN</td>\n",
       "      <td>1</td>\n",
       "      <td>0</td>\n",
       "      <td>0</td>\n",
       "      <td>...</td>\n",
       "      <td>NaN</td>\n",
       "      <td>NaN</td>\n",
       "      <td>NaN</td>\n",
       "      <td>0</td>\n",
       "      <td>0</td>\n",
       "      <td>0</td>\n",
       "      <td>0</td>\n",
       "      <td>NaN</td>\n",
       "      <td>NaN</td>\n",
       "      <td>2</td>\n",
       "    </tr>\n",
       "    <tr>\n",
       "      <th>2</th>\n",
       "      <td>6</td>\n",
       "      <td>NaN</td>\n",
       "      <td>2021-02-22</td>\n",
       "      <td>1</td>\n",
       "      <td>NaN</td>\n",
       "      <td>NaN</td>\n",
       "      <td>NaN</td>\n",
       "      <td>1</td>\n",
       "      <td>0</td>\n",
       "      <td>0</td>\n",
       "      <td>...</td>\n",
       "      <td>NaN</td>\n",
       "      <td>NaN</td>\n",
       "      <td>0.0</td>\n",
       "      <td>0</td>\n",
       "      <td>0</td>\n",
       "      <td>0</td>\n",
       "      <td>0</td>\n",
       "      <td>NaN</td>\n",
       "      <td>NaN</td>\n",
       "      <td>2</td>\n",
       "    </tr>\n",
       "    <tr>\n",
       "      <th>3</th>\n",
       "      <td>7</td>\n",
       "      <td>NaN</td>\n",
       "      <td>2020-12-30</td>\n",
       "      <td>1</td>\n",
       "      <td>NaN</td>\n",
       "      <td>NaN</td>\n",
       "      <td>NaN</td>\n",
       "      <td>1</td>\n",
       "      <td>0</td>\n",
       "      <td>0</td>\n",
       "      <td>...</td>\n",
       "      <td>NaN</td>\n",
       "      <td>NaN</td>\n",
       "      <td>NaN</td>\n",
       "      <td>0</td>\n",
       "      <td>0</td>\n",
       "      <td>0</td>\n",
       "      <td>0</td>\n",
       "      <td>NaN</td>\n",
       "      <td>NaN</td>\n",
       "      <td>2</td>\n",
       "    </tr>\n",
       "    <tr>\n",
       "      <th>4</th>\n",
       "      <td>8</td>\n",
       "      <td>NaN</td>\n",
       "      <td>2020-12-29</td>\n",
       "      <td>1</td>\n",
       "      <td>NaN</td>\n",
       "      <td>NaN</td>\n",
       "      <td>NaN</td>\n",
       "      <td>1</td>\n",
       "      <td>0</td>\n",
       "      <td>0</td>\n",
       "      <td>...</td>\n",
       "      <td>NaN</td>\n",
       "      <td>NaN</td>\n",
       "      <td>0.0</td>\n",
       "      <td>0</td>\n",
       "      <td>0</td>\n",
       "      <td>0</td>\n",
       "      <td>0</td>\n",
       "      <td>NaN</td>\n",
       "      <td>NaN</td>\n",
       "      <td>2</td>\n",
       "    </tr>\n",
       "    <tr>\n",
       "      <th>...</th>\n",
       "      <td>...</td>\n",
       "      <td>...</td>\n",
       "      <td>...</td>\n",
       "      <td>...</td>\n",
       "      <td>...</td>\n",
       "      <td>...</td>\n",
       "      <td>...</td>\n",
       "      <td>...</td>\n",
       "      <td>...</td>\n",
       "      <td>...</td>\n",
       "      <td>...</td>\n",
       "      <td>...</td>\n",
       "      <td>...</td>\n",
       "      <td>...</td>\n",
       "      <td>...</td>\n",
       "      <td>...</td>\n",
       "      <td>...</td>\n",
       "      <td>...</td>\n",
       "      <td>...</td>\n",
       "      <td>...</td>\n",
       "      <td>...</td>\n",
       "    </tr>\n",
       "    <tr>\n",
       "      <th>272</th>\n",
       "      <td>558-5</td>\n",
       "      <td>verona_azienda_osp</td>\n",
       "      <td>2022-10-23</td>\n",
       "      <td>1</td>\n",
       "      <td>NaN</td>\n",
       "      <td>NaN</td>\n",
       "      <td>NaN</td>\n",
       "      <td>0</td>\n",
       "      <td>1</td>\n",
       "      <td>0</td>\n",
       "      <td>...</td>\n",
       "      <td>NaN</td>\n",
       "      <td>NaN</td>\n",
       "      <td>0.0</td>\n",
       "      <td>0</td>\n",
       "      <td>0</td>\n",
       "      <td>0</td>\n",
       "      <td>0</td>\n",
       "      <td>NaN</td>\n",
       "      <td>NaN</td>\n",
       "      <td>2</td>\n",
       "    </tr>\n",
       "    <tr>\n",
       "      <th>273</th>\n",
       "      <td>558-8</td>\n",
       "      <td>verona_azienda_osp</td>\n",
       "      <td>2022-11-26</td>\n",
       "      <td>2</td>\n",
       "      <td>2.0</td>\n",
       "      <td>1.0</td>\n",
       "      <td>NaN</td>\n",
       "      <td>1</td>\n",
       "      <td>1</td>\n",
       "      <td>1</td>\n",
       "      <td>...</td>\n",
       "      <td>NaN</td>\n",
       "      <td>NaN</td>\n",
       "      <td>0.0</td>\n",
       "      <td>0</td>\n",
       "      <td>0</td>\n",
       "      <td>0</td>\n",
       "      <td>0</td>\n",
       "      <td>NaN</td>\n",
       "      <td>NaN</td>\n",
       "      <td>2</td>\n",
       "    </tr>\n",
       "    <tr>\n",
       "      <th>274</th>\n",
       "      <td>558-9</td>\n",
       "      <td>verona_azienda_osp</td>\n",
       "      <td>2022-11-28</td>\n",
       "      <td>1</td>\n",
       "      <td>NaN</td>\n",
       "      <td>NaN</td>\n",
       "      <td>NaN</td>\n",
       "      <td>1</td>\n",
       "      <td>1</td>\n",
       "      <td>1</td>\n",
       "      <td>...</td>\n",
       "      <td>NaN</td>\n",
       "      <td>NaN</td>\n",
       "      <td>0.0</td>\n",
       "      <td>0</td>\n",
       "      <td>0</td>\n",
       "      <td>0</td>\n",
       "      <td>0</td>\n",
       "      <td>NaN</td>\n",
       "      <td>NaN</td>\n",
       "      <td>2</td>\n",
       "    </tr>\n",
       "    <tr>\n",
       "      <th>275</th>\n",
       "      <td>558-10</td>\n",
       "      <td>verona_azienda_osp</td>\n",
       "      <td>2022-12-21</td>\n",
       "      <td>1</td>\n",
       "      <td>NaN</td>\n",
       "      <td>NaN</td>\n",
       "      <td>NaN</td>\n",
       "      <td>1</td>\n",
       "      <td>1</td>\n",
       "      <td>1</td>\n",
       "      <td>...</td>\n",
       "      <td>NaN</td>\n",
       "      <td>NaN</td>\n",
       "      <td>0.0</td>\n",
       "      <td>0</td>\n",
       "      <td>0</td>\n",
       "      <td>0</td>\n",
       "      <td>0</td>\n",
       "      <td>NaN</td>\n",
       "      <td>NaN</td>\n",
       "      <td>2</td>\n",
       "    </tr>\n",
       "    <tr>\n",
       "      <th>276</th>\n",
       "      <td>558-12</td>\n",
       "      <td>verona_azienda_osp</td>\n",
       "      <td>2022-12-27</td>\n",
       "      <td>1</td>\n",
       "      <td>NaN</td>\n",
       "      <td>NaN</td>\n",
       "      <td>NaN</td>\n",
       "      <td>1</td>\n",
       "      <td>1</td>\n",
       "      <td>1</td>\n",
       "      <td>...</td>\n",
       "      <td>NaN</td>\n",
       "      <td>NaN</td>\n",
       "      <td>NaN</td>\n",
       "      <td>0</td>\n",
       "      <td>0</td>\n",
       "      <td>0</td>\n",
       "      <td>0</td>\n",
       "      <td>NaN</td>\n",
       "      <td>NaN</td>\n",
       "      <td>2</td>\n",
       "    </tr>\n",
       "  </tbody>\n",
       "</table>\n",
       "<p>277 rows × 2150 columns</p>\n",
       "</div>"
      ],
      "text/plain": [
       "    record_id redcap_data_access_group    ricovero  tip_paz  \\\n",
       "0           4                      NaN  2021-05-15        1   \n",
       "1           5                      NaN  2021-02-07        1   \n",
       "2           6                      NaN  2021-02-22        1   \n",
       "3           7                      NaN  2020-12-30        1   \n",
       "4           8                      NaN  2020-12-29        1   \n",
       "..        ...                      ...         ...      ...   \n",
       "272     558-5       verona_azienda_osp  2022-10-23        1   \n",
       "273     558-8       verona_azienda_osp  2022-11-26        2   \n",
       "274     558-9       verona_azienda_osp  2022-11-28        1   \n",
       "275    558-10       verona_azienda_osp  2022-12-21        1   \n",
       "276    558-12       verona_azienda_osp  2022-12-27        1   \n",
       "\n",
       "     tip_ricov_chirurg  tip_paz_chirurgico tip_paz_chrurgico_altro  \\\n",
       "0                  NaN                 NaN                     NaN   \n",
       "1                  NaN                 NaN                     NaN   \n",
       "2                  NaN                 NaN                     NaN   \n",
       "3                  NaN                 NaN                     NaN   \n",
       "4                  NaN                 NaN                     NaN   \n",
       "..                 ...                 ...                     ...   \n",
       "272                NaN                 NaN                     NaN   \n",
       "273                2.0                 1.0                     NaN   \n",
       "274                NaN                 NaN                     NaN   \n",
       "275                NaN                 NaN                     NaN   \n",
       "276                NaN                 NaN                     NaN   \n",
       "\n",
       "     obiet_ricov_ti___1  obiet_ricov_ti___2  obiet_ricov_ti___3  ...  \\\n",
       "0                     1                   0                   0  ...   \n",
       "1                     1                   0                   0  ...   \n",
       "2                     1                   0                   0  ...   \n",
       "3                     1                   0                   0  ...   \n",
       "4                     1                   0                   0  ...   \n",
       "..                  ...                 ...                 ...  ...   \n",
       "272                   0                   1                   0  ...   \n",
       "273                   1                   1                   1  ...   \n",
       "274                   1                   1                   1  ...   \n",
       "275                   1                   1                   1  ...   \n",
       "276                   1                   1                   1  ...   \n",
       "\n",
       "     dose_totale  ultrafiltr_totale  rac_cam_out tip_camp_out___1  \\\n",
       "0            NaN                NaN          0.0                0   \n",
       "1            NaN                NaN          NaN                0   \n",
       "2            NaN                NaN          0.0                0   \n",
       "3            NaN                NaN          NaN                0   \n",
       "4            NaN                NaN          0.0                0   \n",
       "..           ...                ...          ...              ...   \n",
       "272          NaN                NaN          0.0                0   \n",
       "273          NaN                NaN          0.0                0   \n",
       "274          NaN                NaN          0.0                0   \n",
       "275          NaN                NaN          0.0                0   \n",
       "276          NaN                NaN          NaN                0   \n",
       "\n",
       "    tip_camp_out___2 tip_camp_out___3 tip_camp_out___4  tip_camp_al_out  \\\n",
       "0                  0                0                0              NaN   \n",
       "1                  0                0                0              NaN   \n",
       "2                  0                0                0              NaN   \n",
       "3                  0                0                0              NaN   \n",
       "4                  0                0                0              NaN   \n",
       "..               ...              ...              ...              ...   \n",
       "272                0                0                0              NaN   \n",
       "273                0                0                0              NaN   \n",
       "274                0                0                0              NaN   \n",
       "275                0                0                0              NaN   \n",
       "276                0                0                0              NaN   \n",
       "\n",
       "     q_camp_out  outcome_ti_complete  \n",
       "0           NaN                    2  \n",
       "1           NaN                    2  \n",
       "2           NaN                    2  \n",
       "3           NaN                    2  \n",
       "4           NaN                    2  \n",
       "..          ...                  ...  \n",
       "272         NaN                    2  \n",
       "273         NaN                    2  \n",
       "274         NaN                    2  \n",
       "275         NaN                    2  \n",
       "276         NaN                    2  \n",
       "\n",
       "[277 rows x 2150 columns]"
      ]
     },
     "execution_count": 12,
     "metadata": {},
     "output_type": "execute_result"
    }
   ],
   "source": [
    "dati"
   ]
  },
  {
   "cell_type": "markdown",
   "id": "a0186294-781c-4d7c-b97d-3cdb447672b1",
   "metadata": {
    "tags": []
   },
   "source": [
    "## Indicazioni al trattamento"
   ]
  },
  {
   "cell_type": "code",
   "execution_count": 13,
   "id": "bff45d17",
   "metadata": {},
   "outputs": [],
   "source": [
    "ind_nefro= dati.columns.get_loc('nefrotox')\n",
    "start_lattati= dati.columns.get_loc('unit_latt') "
   ]
  },
  {
   "cell_type": "code",
   "execution_count": 14,
   "id": "6bd5a68f-dd1c-4d30-936c-2ec28627f78c",
   "metadata": {},
   "outputs": [
    {
     "data": {
      "text/plain": [
       "Index(['nefrotox', 'fluids', 'emod', 'crea_ur', 'ipergl', 'mdc', 'flogosi',\n",
       "       'indicaz_altro', 'colt', 'emp', 'atb_emp___1', 'atb_emp___2',\n",
       "       'atb_emp___3', 'atb_emp___4', 'atb_emp___5', 'atb_emp___6',\n",
       "       'atb_emp___7', 'atb_emp___8', 'atb_emp___9', 'atb_emp___10',\n",
       "       'atb_emp___11', 'atb_emp___12', 'atb_emp___13', 'atb_emp___14',\n",
       "       'atb_emp___15', 'atb_emp___16', 'atb_emp___17', 'atb_emp___18',\n",
       "       'atb_emp___19', 'atb_emp___20', 'atb_emp___21', 'atb_emp___22',\n",
       "       'atb_emp___23', 'atb_emp___24', 'atb_emp___25', 'atb_emp___26',\n",
       "       'atb_emp___27', 'atb_emp___28', 'atb_emp___29', 'atb_emp___30',\n",
       "       'atb_emp___31', 'atb_emp___32', 'atb_emp___33', 'atb_emp___34',\n",
       "       'atb_emp___35', 'atb_emp___36', 'atb_emp___37', 'atb_emp___38',\n",
       "       'atb_emp___39', 'atb_emp___40', 'atb_emp___41', 'atb_emp___42',\n",
       "       'dose_ant', 'farm_dose'],\n",
       "      dtype='object')"
      ]
     },
     "execution_count": 14,
     "metadata": {},
     "output_type": "execute_result"
    }
   ],
   "source": [
    "dati.columns[ind_nefro:start_lattati]"
   ]
  },
  {
   "cell_type": "code",
   "execution_count": 15,
   "id": "c7bb9dd8-e65e-4e43-8a46-34667c27374a",
   "metadata": {
    "tags": []
   },
   "outputs": [],
   "source": [
    "dati.drop(columns=list(dati.columns[ind_nefro:start_lattati]),inplace=True)"
   ]
  },
  {
   "cell_type": "code",
   "execution_count": 16,
   "id": "5a65c217-99b6-45df-8ba6-8d7ef1b5c306",
   "metadata": {},
   "outputs": [],
   "source": [
    "dati_sepsi = dati.loc[dati['target'] != 1 ]"
   ]
  },
  {
   "cell_type": "code",
   "execution_count": 17,
   "id": "840a2222-db22-4bc7-98ff-aad3aa7c3fbb",
   "metadata": {},
   "outputs": [],
   "source": [
    "dati_sepsi['lac_mmol'].fillna(dati_sepsi['lac_mg_mmol'],inplace=True)"
   ]
  },
  {
   "cell_type": "code",
   "execution_count": 18,
   "id": "251c3d2c",
   "metadata": {},
   "outputs": [],
   "source": [
    "dati['lac_mmol']=dati_sepsi['lac_mmol']"
   ]
  },
  {
   "cell_type": "code",
   "execution_count": 19,
   "id": "ecf481bf-9e54-4f64-b688-779eead03ea8",
   "metadata": {},
   "outputs": [],
   "source": [
    "dati.drop(columns=['unit_latt', 'lac_mg', 'lac_mg_mmol','lac_mmol_mg','lac_2_4_mmol','lac_2_4_mg'],inplace=True)"
   ]
  },
  {
   "cell_type": "code",
   "execution_count": 20,
   "id": "aade16ff-e676-46af-af2a-37ff7f011306",
   "metadata": {
    "tags": []
   },
   "outputs": [],
   "source": [
    "dati.drop(columns=list(dati.columns)[dati.columns.get_loc('ipot'):dati.columns.get_loc('ipot')+5],inplace=True)"
   ]
  },
  {
   "cell_type": "markdown",
   "id": "33e70c78-fea7-41d7-b0dc-a901b8453db7",
   "metadata": {
    "tags": []
   },
   "source": [
    "## Monitoraggi"
   ]
  },
  {
   "cell_type": "code",
   "execution_count": 21,
   "id": "68b99c35-e7ab-4c83-827a-29791000a662",
   "metadata": {},
   "outputs": [],
   "source": [
    "first = dati.columns.get_loc('rass')\n",
    "dati.drop(columns=list(dati.columns[first : dati.columns.get_loc('fc')]),inplace=True)\n"
   ]
  },
  {
   "cell_type": "code",
   "execution_count": 22,
   "id": "80b86718",
   "metadata": {},
   "outputs": [],
   "source": [
    "first_12h = dati.columns.get_loc('rass_foll_12h')\n",
    "dati.drop(columns=list(dati.columns[first_12h : dati.columns.get_loc('fc_foll_12h')]),inplace=True)\n"
   ]
  },
  {
   "cell_type": "code",
   "execution_count": 23,
   "id": "872dfc18",
   "metadata": {},
   "outputs": [],
   "source": [
    "first_24h= dati.columns.get_loc('rass_foll_24h')\n",
    "dati.drop(columns=list(dati.columns[first_24h : dati.columns.get_loc('fc_foll_24h')]),inplace=True)\n"
   ]
  },
  {
   "cell_type": "code",
   "execution_count": 24,
   "id": "930715b9",
   "metadata": {},
   "outputs": [],
   "source": [
    "first2gg = dati.columns.get_loc('rass_foll_2gg')\n",
    "dati.drop(columns=list(dati.columns[first2gg : dati.columns.get_loc('fc_foll_2gg')]),inplace=True)\n"
   ]
  },
  {
   "cell_type": "code",
   "execution_count": 25,
   "id": "63522fb7",
   "metadata": {},
   "outputs": [],
   "source": [
    "first3gg = dati.columns.get_loc('rass_foll_3gg')\n",
    "dati.drop(columns=list(dati.columns[first3gg : dati.columns.get_loc('fc_foll_3gg')]),inplace=True)\n"
   ]
  },
  {
   "cell_type": "markdown",
   "id": "11ae9d22-8cfc-4fb8-b587-55c53f00a99b",
   "metadata": {
    "tags": []
   },
   "source": [
    "### Cuore"
   ]
  },
  {
   "cell_type": "code",
   "execution_count": 26,
   "id": "61d911d1-fe1b-4544-b835-d3024396b20e",
   "metadata": {},
   "outputs": [],
   "source": [
    "ind_adr=dati.columns.get_loc('adr_dos')\n",
    "ind_altro = dati.columns.get_loc('dos_altro')\n",
    "adr_12h = dati.columns.get_loc('adr_dos_foll_12h')\n",
    "altro_12h = dati.columns.get_loc('dos_altro_foll_12h')\n",
    "adr_24h = dati.columns.get_loc('adr_dos_foll_24h')\n",
    "altro_24h = dati.columns.get_loc('dos_altro_foll_24h')\n",
    "adr_2gg = dati.columns.get_loc('adr_dos_foll_2gg')\n",
    "vis_2gg = dati.columns.get_loc('vis_foll_2gg')\n",
    "adr_3gg = dati.columns.get_loc('adr_dos_foll_3gg')\n",
    "altro_3gg = dati.columns.get_loc('dos_altro_foll_3gg')"
   ]
  },
  {
   "cell_type": "code",
   "execution_count": 27,
   "id": "6b1ea3a0-3b1b-4d02-a6bf-db4228e13c44",
   "metadata": {},
   "outputs": [],
   "source": [
    "dati[dati.columns[ind_adr:ind_altro]] = dati[dati.columns[ind_adr:ind_altro]].fillna(0)\n",
    "dati[dati.columns[adr_12h:altro_12h]] = dati[dati.columns[adr_12h:altro_12h]].fillna(0)\n",
    "dati[dati.columns[adr_24h:altro_24h]] = dati[dati.columns[adr_24h:altro_24h]].fillna(0)\n",
    "dati[dati.columns[adr_2gg:vis_2gg]] = dati[dati.columns[adr_2gg:vis_2gg]].fillna(0)\n",
    "dati[dati.columns[adr_3gg:altro_3gg]] = dati[dati.columns[adr_3gg:altro_3gg]].fillna(0)"
   ]
  },
  {
   "cell_type": "code",
   "execution_count": 28,
   "id": "d0ca4c51-8aba-4e34-921e-a0a04790fd1c",
   "metadata": {},
   "outputs": [],
   "source": [
    "dati.drop(columns=['dos_altro','dos_altro_foll_12h','dos_altro_foll_24h','dos_altro_foll_3gg'], inplace=True)"
   ]
  },
  {
   "cell_type": "markdown",
   "id": "856c0f76-e295-4270-b20a-eb90c4f84e5f",
   "metadata": {
    "tags": []
   },
   "source": [
    "#### Monitoraggio cardiaco "
   ]
  },
  {
   "cell_type": "code",
   "execution_count": 29,
   "id": "87ba2921-f912-4e04-879f-5c23cb22946f",
   "metadata": {},
   "outputs": [],
   "source": [
    "ind_monito= dati.columns.get_loc('mod_ecocardio')\n",
    "ind_vent= dati.columns.get_loc('vent')\n",
    "dati.drop(columns=list(dati.columns[ind_monito:ind_vent]),inplace=True)"
   ]
  },
  {
   "cell_type": "code",
   "execution_count": 30,
   "id": "e939863b-270a-417b-b865-06e5ac5e9ce7",
   "metadata": {},
   "outputs": [],
   "source": [
    "monito_12h= dati.columns.get_loc('mod_ecocardio_foll_12h')\n",
    "vent_12h= dati.columns.get_loc('vent_foll_12h')\n",
    "dati.drop(columns=list(dati.columns[monito_12h:vent_12h]),inplace=True)"
   ]
  },
  {
   "cell_type": "code",
   "execution_count": 31,
   "id": "a3d0f8c1-8d98-4b4c-96da-5d9e6159fe40",
   "metadata": {},
   "outputs": [],
   "source": [
    "monito_24h= dati.columns.get_loc('mod_ecocardio_foll_24h')\n",
    "vent_24h= dati.columns.get_loc('vent_foll_24h')\n",
    "dati.drop(columns=list(dati.columns[monito_24h:vent_24h]),inplace=True)"
   ]
  },
  {
   "cell_type": "code",
   "execution_count": 32,
   "id": "13bdfd50-127e-4d59-a804-cfdeea0a9be1",
   "metadata": {},
   "outputs": [],
   "source": [
    "monito_2gg= dati.columns.get_loc('mod_ecocardio_foll_2gg')\n",
    "vent_2gg= dati.columns.get_loc('vent_foll_2gg')\n",
    "dati.drop(columns=list(dati.columns[monito_2gg:vent_2gg]),inplace=True)\n"
   ]
  },
  {
   "cell_type": "code",
   "execution_count": 33,
   "id": "9efe1145-5007-465c-96b5-cd7a5cb0494b",
   "metadata": {},
   "outputs": [],
   "source": [
    "monito_3gg= dati.columns.get_loc('mod_ecocardio_foll_3gg')\n",
    "vent_3gg= dati.columns.get_loc('vent_foll_3gg')\n",
    "dati.drop(columns=list(dati.columns[monito_3gg:vent_3gg]),inplace=True)"
   ]
  },
  {
   "cell_type": "markdown",
   "id": "a855cc78-b261-4b20-aaf2-267d3c9f610b",
   "metadata": {
    "tags": []
   },
   "source": [
    "### Polmoni\n"
   ]
  },
  {
   "cell_type": "code",
   "execution_count": 34,
   "id": "2c167c41-619e-42d0-b4d8-edfca04b69f5",
   "metadata": {},
   "outputs": [],
   "source": [
    "dati['hct'] = dati['hct'].fillna(30.0)\n",
    "dati['hct_foll_12h'] = dati['hct_foll_12h'].fillna(30)\n",
    "dati['hct_foll_24h'] = dati['hct_foll_24h'].fillna(30)\n",
    "dati['hct_foll_2gg'] = dati['hct_foll_2gg'].fillna(30)\n",
    "dati['hct_foll_3gg'] = dati['hct_foll_3gg'].fillna(30)"
   ]
  },
  {
   "cell_type": "code",
   "execution_count": 128,
   "id": "2334cb51-1268-4880-98c7-417fb6c373cc",
   "metadata": {},
   "outputs": [],
   "source": [
    "dati['fio2_foll_2gg'] = dati['fio2_foll_2gg'].fillna(dati['fio2_foll_3gg'])\n",
    "dati['pao2_foll_2gg'] = dati['pao2_foll_2gg'].fillna(dati['pao2_foll_3gg'])\n",
    "dati['horowitz_foll_2gg'] = dati['horowitz_foll_2gg'].fillna(dati['horowitz_foll_3gg'])"
   ]
  },
  {
   "cell_type": "code",
   "execution_count": 129,
   "id": "f55b227a-5abf-4006-9f61-a7b680c3fe55",
   "metadata": {},
   "outputs": [],
   "source": [
    "dati['fio2_foll_24h'] = dati['fio2_foll_24h'].fillna(dati['fio2_foll_2gg'])\n",
    "dati['pao2_foll_24h'] = dati['pao2_foll_24h'].fillna(dati['pao2_foll_2gg'])\n",
    "dati['horowitz_foll_24h'] = dati['horowitz_foll_24h'].fillna(dati['horowitz_foll_2gg'])"
   ]
  },
  {
   "cell_type": "code",
   "execution_count": 130,
   "id": "5366f141-f5f2-4dd0-ac2e-d4256fdafa3f",
   "metadata": {},
   "outputs": [],
   "source": [
    "dati['fio2_foll_12h'] = dati['fio2_foll_12h'].fillna(dati['fio2_foll_24h'])\n",
    "dati['pao2_foll_12h'] = dati['pao2_foll_12h'].fillna(dati['pao2_foll_24h'])\n",
    "dati['horowitz_foll_12h'] = dati['horowitz_foll_12h'].fillna(dati['horowitz_foll_24h'])"
   ]
  },
  {
   "cell_type": "code",
   "execution_count": 131,
   "id": "e845cb54-baaf-4cef-8f80-4428c06525fc",
   "metadata": {},
   "outputs": [],
   "source": [
    "dati['fio2'] = dati['fio2'].fillna(dati['fio2_foll_12h'])\n",
    "dati['pao2'] = dati['pao2'].fillna(dati['pao2_foll_12h'])\n",
    "dati['horowitz'] = dati['horowitz'].fillna(dati['horowitz_foll_12h'])"
   ]
  },
  {
   "cell_type": "code",
   "execution_count": 35,
   "id": "6e0312a5-a369-4cdb-98ee-bbd0f0e76061",
   "metadata": {},
   "outputs": [],
   "source": [
    "misura_lact = dati.columns.get_loc('misura_lact')\n",
    "lact_mmol_mg_conver = dati.columns.get_loc('lact_mmol_mg_conver')\n",
    "lattati_tempo0 = dati.iloc[:,misura_lact:lact_mmol_mg_conver+1]\n",
    "lattati_tempo0=lattati_tempo0.fillna(0.0)\n",
    "lattati_tempo0['lattati'] = lattati_tempo0['lact_mg_mmol_conver'] + lattati_tempo0['lact_mmol']\n",
    "lattati_tempo0.replace(0.0,np.nan,inplace=True)\n",
    "dati.insert(loc=misura_lact, column='lattati', value = lattati_tempo0['lattati'])\n",
    "dati.drop(columns=['misura_lact','lact_mg','lact_mg_mmol_conver','lact_mmol','lact_mmol_mg_conver'],inplace=True)\n",
    "\n"
   ]
  },
  {
   "cell_type": "code",
   "execution_count": 36,
   "id": "7dc438c8",
   "metadata": {},
   "outputs": [],
   "source": [
    "misura_lact_12h = dati.columns.get_loc('misura_lact_foll_12h')\n",
    "lact_mmol_mg_conver_12h = dati.columns.get_loc('lact_mmol_mg_conver_foll_12h')\n",
    "lattati_tempo0_12h = dati.iloc[:,misura_lact_12h:lact_mmol_mg_conver_12h+1]\n",
    "lattati_tempo0_12h=lattati_tempo0_12h.fillna(0.0)\n",
    "lattati_tempo0_12h['lattati_foll_12h'] = lattati_tempo0_12h['lact_mg_mmol_conver_foll_12h'] + lattati_tempo0_12h['lact_mmol_foll_12h']\n",
    "lattati_tempo0_12h.replace(0.0,np.nan,inplace=True)\n",
    "dati.insert(loc=misura_lact_12h, column='lattati_foll_12h', value = lattati_tempo0_12h['lattati_foll_12h'])\n",
    "dati.drop(columns=['misura_lact_foll_12h','lact_mg_foll_12h','lact_mg_mmol_conver_foll_12h','lact_mmol_foll_12h','lact_mmol_mg_conver_foll_12h'],inplace=True)\n",
    "\n"
   ]
  },
  {
   "cell_type": "code",
   "execution_count": 37,
   "id": "2697b85e",
   "metadata": {},
   "outputs": [],
   "source": [
    "misura_lact_24h = dati.columns.get_loc('misura_lact_foll_24h')\n",
    "lact_mmol_mg_conver_24h = dati.columns.get_loc('lact_mmol_mg_conver_foll_24h')\n",
    "lattati_tempo0_24h = dati.iloc[:,misura_lact_24h:lact_mmol_mg_conver_24h+1]\n",
    "lattati_tempo0_24h=lattati_tempo0_24h.fillna(0.0)\n",
    "lattati_tempo0_24h['lattati_foll_24h'] = lattati_tempo0_24h['lact_mg_mmol_conver_foll_24h'] + lattati_tempo0_24h['lact_mmol_foll_24h']\n",
    "lattati_tempo0_24h.replace(0.0,np.nan,inplace=True)\n",
    "dati.insert(loc=misura_lact_24h, column='lattati_foll_24h', value = lattati_tempo0_24h['lattati_foll_24h'])\n",
    "dati.drop(columns=['misura_lact_foll_24h','lact_mg_foll_24h','lact_mg_mmol_conver_foll_24h','lact_mmol_foll_24h','lact_mmol_mg_conver_foll_24h'],inplace=True)\n",
    "\n"
   ]
  },
  {
   "cell_type": "code",
   "execution_count": 38,
   "id": "71068832",
   "metadata": {},
   "outputs": [],
   "source": [
    "misura_lact_2gg = dati.columns.get_loc('misura_lact_foll_2gg')\n",
    "lact_mmol_mg_conver_2gg = dati.columns.get_loc('lact_mmol_mg_conver_foll_2gg')\n",
    "lattati_tempo0_2gg = dati.iloc[:,misura_lact_2gg:lact_mmol_mg_conver_2gg+1]\n",
    "lattati_tempo0_2gg=lattati_tempo0_2gg.fillna(0.0)\n",
    "lattati_tempo0_2gg['lattati_foll_2gg'] = lattati_tempo0_2gg['lact_mg_mmol_conver_foll_2gg'] + lattati_tempo0_2gg['lact_mmol_foll_2gg']\n",
    "lattati_tempo0_2gg.replace(0.0,np.nan,inplace=True)\n",
    "dati.insert(loc=misura_lact_2gg, column='lattati_foll_2gg', value = lattati_tempo0_2gg['lattati_foll_2gg'])\n",
    "dati.drop(columns=['misura_lact_foll_2gg','lact_mg_foll_2gg','lact_mg_mmol_conver_foll_2gg','lact_mmol_foll_2gg','lact_mmol_mg_conver_foll_2gg'],inplace=True)\n"
   ]
  },
  {
   "cell_type": "code",
   "execution_count": 39,
   "id": "5dc8ad22",
   "metadata": {},
   "outputs": [],
   "source": [
    "misura_lact_3gg = dati.columns.get_loc('misura_lact_foll_3gg')\n",
    "lact_mmol_mg_conver_3gg = dati.columns.get_loc('lact_mmol_mg_conver_foll_3gg')\n",
    "lattati_tempo0_3gg = dati.iloc[:,misura_lact_3gg:lact_mmol_mg_conver_3gg+1]\n",
    "lattati_tempo0_3gg=lattati_tempo0_3gg.fillna(0.0)\n",
    "lattati_tempo0_3gg['lattati_foll_3gg'] = lattati_tempo0_3gg['lact_mg_mmol_conver_foll_3gg'] + lattati_tempo0_3gg['lact_mmol_foll_3gg']\n",
    "lattati_tempo0_3gg.replace(0.0,np.nan,inplace=True)\n",
    "dati.insert(loc=misura_lact_3gg, column='lattati_foll_3gg', value = lattati_tempo0_3gg['lattati_foll_3gg'])\n",
    "dati.drop(columns=['misura_lact_foll_3gg','lact_mg_foll_3gg','lact_mg_mmol_conver_foll_3gg','lact_mmol_foll_3gg','lact_mmol_mg_conver_foll_3gg'],inplace=True)"
   ]
  },
  {
   "cell_type": "code",
   "execution_count": 40,
   "id": "841c76ff-e935-4bcc-8a31-d0b3ccaca11c",
   "metadata": {},
   "outputs": [],
   "source": [
    "dati['bicarb'] = dati['bicarb'].fillna(dati['be'] + 24.0 )\n",
    "dati['bicarb'] = dati['bicarb'].fillna(24.0)\n",
    "dati['be'] = dati['be'].fillna(dati['bicarb'] - 24.0)\n",
    "\n",
    "\n",
    "dati['bicarb_foll_12h'] = dati['bicarb_foll_12h'].fillna(dati['be_foll_12h'] + 24.0 )\n",
    "dati['bicarb_foll_12h'] = dati['bicarb_foll_12h'].fillna(24.0 )\n",
    "dati['be_foll_12h'] = dati['be_foll_12h'].fillna(dati['bicarb_foll_12h'] - 24.0)\n",
    "\n",
    "\n",
    "dati['bicarb_foll_24h'] = dati['bicarb_foll_24h'].fillna(dati['be_foll_24h'] + 24.0 )\n",
    "dati['bicarb_foll_24h'] = dati['bicarb_foll_24h'].fillna(24.0 )\n",
    "dati['be_foll_24h'] = dati['be_foll_24h'].fillna(dati['bicarb_foll_24h'] - 24.0)\n",
    "\n",
    "dati['bicarb_foll_2gg'] = dati['bicarb_foll_2gg'].fillna(dati['be_foll_2gg'] + 24.0 )\n",
    "dati['bicarb_foll_2gg'] = dati['bicarb_foll_2gg'].fillna(24.0 )\n",
    "dati['be_foll_2gg'] = dati['be_foll_2gg'].fillna(dati['bicarb_foll_2gg'] - 24.0)\n",
    "\n",
    "dati['bicarb_foll_3gg'] = dati['bicarb_foll_3gg'].fillna(dati['be_foll_3gg'] + 24.0 )\n",
    "dati['bicarb_foll_3gg'] = dati['bicarb_foll_3gg'].fillna(24.0 )\n",
    "dati['be_foll_3gg'] = dati['be_foll_3gg'].fillna(dati['bicarb_foll_3gg'] - 24.0)"
   ]
  },
  {
   "cell_type": "markdown",
   "id": "713a09fe-5bd4-4bbd-bfb7-0f5ec1cd70ce",
   "metadata": {
    "tags": []
   },
   "source": [
    "### Reni"
   ]
  },
  {
   "cell_type": "code",
   "execution_count": 41,
   "id": "39fd3fe9-9986-48c7-bdd9-1640d58d5b72",
   "metadata": {},
   "outputs": [],
   "source": [
    "dati['creat_7_365']=dati['creat_7_365'].fillna(0.0)"
   ]
  },
  {
   "cell_type": "code",
   "execution_count": 42,
   "id": "794b3570-86b7-4eb7-8d20-7221bd603dc4",
   "metadata": {},
   "outputs": [],
   "source": [
    "dati.drop(columns=['diur', 'dos', 'diur_2', 'dos_2','dos_3'],inplace = True)\n",
    "dati.drop(columns=['diur_foll_12h', 'dos_foll_12h', 'diur_2_foll_12h'],inplace = True)\n",
    "dati.drop(columns=['diur_foll_24h', 'dos_foll_24h'],inplace = True)\n",
    "dati.drop(columns=['diur_foll_2gg', 'dos_foll_2gg', 'diur_2_foll_2gg', 'dos_2_foll_2gg'],inplace = True)\n",
    "dati.drop(columns=['diur_foll_3gg', 'dos_foll_3gg', 'diur_2_foll_3gg', 'dos_2_foll_3gg'],inplace = True)"
   ]
  },
  {
   "cell_type": "code",
   "execution_count": 43,
   "id": "c2547b1b-9fac-4c10-a59d-54d994ff102e",
   "metadata": {},
   "outputs": [],
   "source": [
    "dati.drop(columns=('nc'),inplace=True)"
   ]
  },
  {
   "cell_type": "markdown",
   "id": "442008d1-6c43-423f-a2f3-4f15974758cf",
   "metadata": {
    "tags": []
   },
   "source": [
    "### Fegato"
   ]
  },
  {
   "cell_type": "code",
   "execution_count": 44,
   "id": "955f760c",
   "metadata": {},
   "outputs": [],
   "source": [
    "dati['bil'] = dati['bil'].fillna(dati['bil_foll_12h'])\n",
    "dati['bil'] = dati['bil'].fillna(dati['bil_foll_24h'])\n",
    "dati['bil'] = dati['bil'].fillna(dati['bil_foll_2gg'])\n"
   ]
  },
  {
   "cell_type": "code",
   "execution_count": 45,
   "id": "46af7fcf-485b-4fb2-8725-864a78ae2a18",
   "metadata": {},
   "outputs": [],
   "source": [
    "dati['bil']=dati['bil'].fillna(0.8)\n",
    "dati['bil_foll_12h']=dati['bil_foll_12h'].fillna(0.8)\n",
    "dati['bil_foll_24h']=dati['bil_foll_24h'].fillna(0.8)\n",
    "dati['bil_foll_2gg']=dati['bil_foll_2gg'].fillna(0.8)\n",
    "dati['bil_foll_3gg']=dati['bil_foll_3gg'].fillna(0.8)"
   ]
  },
  {
   "cell_type": "code",
   "execution_count": 46,
   "id": "90f9f1b8-0677-48c8-a825-8d0fdfa2f05e",
   "metadata": {},
   "outputs": [],
   "source": [
    "indice_limon = dati.columns.get_loc('limon')\n",
    "indice_teg = dati.columns.get_loc('ci_teg')+1\n",
    "dati.drop(columns=dati.columns[indice_limon:indice_teg],inplace=True)\n"
   ]
  },
  {
   "cell_type": "code",
   "execution_count": 47,
   "id": "28c12a17",
   "metadata": {},
   "outputs": [],
   "source": [
    "indice_limon_12h = dati.columns.get_loc('limon_foll_12h')\n",
    "indice_teg_12h = dati.columns.get_loc('teg_foll_12h')+1\n",
    "dati.drop(columns=dati.columns[indice_limon_12h:indice_teg_12h],inplace=True)\n"
   ]
  },
  {
   "cell_type": "code",
   "execution_count": 48,
   "id": "282d0964",
   "metadata": {},
   "outputs": [],
   "source": [
    "indice_limon_24h = dati.columns.get_loc('limon_foll_24h')\n",
    "indice_teg_24h = dati.columns.get_loc('teg_foll_24h')+1\n",
    "dati.drop(columns=dati.columns[indice_limon_24h:indice_teg_24h],inplace=True)\n"
   ]
  },
  {
   "cell_type": "code",
   "execution_count": 49,
   "id": "01ae7781",
   "metadata": {},
   "outputs": [],
   "source": [
    "indice_limon_2gg = dati.columns.get_loc('limon_foll_2gg')\n",
    "indice_teg_2gg = dati.columns.get_loc('ml_intem_foll_2gg')+1\n",
    "dati.drop(columns=dati.columns[indice_limon_2gg:indice_teg_2gg],inplace=True)\n"
   ]
  },
  {
   "cell_type": "code",
   "execution_count": 50,
   "id": "f4822468-b068-41b5-a80f-629ee47cef2c",
   "metadata": {},
   "outputs": [],
   "source": [
    "indice_limon_3gg = dati.columns.get_loc('limon_foll_3gg')\n",
    "indice_teg_3gg = dati.columns.get_loc('teg_foll_3gg')+1\n",
    "dati.drop(columns=dati.columns[indice_limon_3gg:indice_teg_3gg],inplace=True)\n"
   ]
  },
  {
   "cell_type": "code",
   "execution_count": 51,
   "id": "c976e599-0d7a-4fbb-b8b5-f8462f84ec32",
   "metadata": {},
   "outputs": [],
   "source": [
    "dati.drop(columns=['colturali___1',\n",
    " 'colturali___2',\n",
    " 'colturali___3',\n",
    " 'colturali___4',\n",
    " 'colturali___5',\n",
    " 'colturali___6',\n",
    " 'colturali___7',\n",
    " 'colturali___8',\n",
    " 'colturali___10',\n",
    " 'colturali___11',\n",
    " 'colturali___9',\n",
    " 'colturali_altro',\n",
    " 'colt_pre_atb'],inplace=True)"
   ]
  },
  {
   "cell_type": "code",
   "execution_count": 52,
   "id": "981fbc6e-5b9f-4c03-8a91-6da5292fd4f3",
   "metadata": {},
   "outputs": [],
   "source": [
    "dati.drop(columns=['colturali_foll_12h___1', 'colturali_foll_12h___2',\n",
    "       'colturali_foll_12h___3', 'colturali_foll_12h___4',\n",
    "       'colturali_foll_12h___5', 'colturali_foll_12h___6',\n",
    "       'colturali_foll_12h___7', 'colturali_foll_12h___8',\n",
    "       'colturali_foll_12h___10', 'colturali_foll_12h___11',\n",
    "       'colturali_foll_12h___9', 'colturali_altro_foll_12h',\n",
    "       'colt_pre_atb_foll_12h'],inplace=True)"
   ]
  },
  {
   "cell_type": "code",
   "execution_count": 53,
   "id": "183f7a2f-e81f-475e-9cbc-6f888a689aa8",
   "metadata": {},
   "outputs": [],
   "source": [
    "dati.drop(columns=['colturali_foll_24h___1', 'colturali_foll_24h___2',\n",
    "       'colturali_foll_24h___3', 'colturali_foll_24h___4',\n",
    "       'colturali_foll_24h___5', 'colturali_foll_24h___6',\n",
    "       'colturali_foll_24h___7', 'colturali_foll_24h___8',\n",
    "       'colturali_foll_24h___10', 'colturali_foll_24h___11',\n",
    "       'colturali_foll_24h___9', 'colturali_altro_foll_24h',\n",
    "       'colt_pre_atb_foll_24h'],inplace=True)"
   ]
  },
  {
   "cell_type": "code",
   "execution_count": 54,
   "id": "f53a4dbf-a783-4b68-be8d-70710ee21309",
   "metadata": {},
   "outputs": [],
   "source": [
    "dati.drop(columns=['colturali_foll_2gg___1', 'colturali_foll_2gg___2',\n",
    "       'colturali_foll_2gg___3', 'colturali_foll_2gg___4',\n",
    "       'colturali_foll_2gg___5', 'colturali_foll_2gg___6',\n",
    "       'colturali_foll_2gg___7', 'colturali_foll_2gg___8',\n",
    "       'colturali_foll_2gg___10', 'colturali_foll_2gg___11',\n",
    "       'colturali_foll_2gg___9', 'colturali_altro_foll_2gg',\n",
    "       'colt_pre_atb_foll_2gg'],inplace=True)"
   ]
  },
  {
   "cell_type": "code",
   "execution_count": 55,
   "id": "1bd303f0-b69b-4298-9c44-31635c3cabaf",
   "metadata": {},
   "outputs": [],
   "source": [
    "dati.drop(columns=['colturali_foll_3gg___1', 'colturali_foll_3gg___2',\n",
    "       'colturali_foll_3gg___3', 'colturali_foll_3gg___4',\n",
    "       'colturali_foll_3gg___5', 'colturali_foll_3gg___6',\n",
    "       'colturali_foll_3gg___7', 'colturali_foll_3gg___8',\n",
    "       'colturali_foll_3gg___10', 'colturali_foll_3gg___11',\n",
    "       'colturali_foll_3gg___9', 'colturali_altro_foll_3gg',\n",
    "       'colt_pre_atb_foll_3gg'],inplace=True)"
   ]
  },
  {
   "cell_type": "code",
   "execution_count": 56,
   "id": "9d3d6c29-19b7-4a17-a93b-a4a3b848d8e2",
   "metadata": {},
   "outputs": [],
   "source": [
    "dati['pos_coronavirus']=dati['pos_coronavirus'].fillna(3.0)\n",
    "dati['pos_coronavirus_12h']=dati['pos_coronavirus_12h'].fillna(3.0)\n",
    "dati['pos_coronavirus_24h']=dati['pos_coronavirus_24h'].fillna(3.0)\n",
    "dati['pos_coronavirus_2gg']=dati['pos_coronavirus_2gg'].fillna(3.0)\n",
    "dati['pos_coronavirus_3gg']=dati['pos_coronavirus_3gg'].fillna(3.0)"
   ]
  },
  {
   "cell_type": "code",
   "execution_count": 57,
   "id": "d241a6c4-c17b-45ad-bb7d-89f5fb4e88d4",
   "metadata": {},
   "outputs": [],
   "source": [
    "iniz_elim_covid = dati.columns.get_loc('pos_coronavirus')+1\n",
    "fine__elim_covid = dati.columns.get_loc('pct')\n",
    "dati.drop(columns=dati.columns[iniz_elim_covid:fine__elim_covid], inplace=True)"
   ]
  },
  {
   "cell_type": "code",
   "execution_count": 58,
   "id": "ff16b42e-34dc-438a-8b31-71dc6b870dcd",
   "metadata": {},
   "outputs": [],
   "source": [
    "iniz_elim_covid_12h = dati.columns.get_loc('pos_coronavirus_12h')+1\n",
    "fine__elim_covid_12h = dati.columns.get_loc('pct_foll_12h')\n",
    "dati.drop(columns=dati.columns[iniz_elim_covid_12h:fine__elim_covid_12h], inplace=True)"
   ]
  },
  {
   "cell_type": "code",
   "execution_count": 59,
   "id": "87a24839-1afe-450d-8acb-4c90a2540d80",
   "metadata": {},
   "outputs": [],
   "source": [
    "iniz_elim_covid_24h = dati.columns.get_loc('pos_coronavirus_24h')+1\n",
    "fine__elim_covid_24h = dati.columns.get_loc('pct_foll_24h')\n",
    "dati.drop(columns=dati.columns[iniz_elim_covid_24h:fine__elim_covid_24h], inplace=True)"
   ]
  },
  {
   "cell_type": "code",
   "execution_count": 60,
   "id": "975854b8-7d45-4574-928b-8066fc120765",
   "metadata": {},
   "outputs": [],
   "source": [
    "iniz_elim_covid_2gg = dati.columns.get_loc('pos_coronavirus_2gg')+1\n",
    "fine__elim_covid_2gg = dati.columns.get_loc('pct_foll_2gg')\n",
    "dati.drop(columns=dati.columns[iniz_elim_covid_2gg:fine__elim_covid_2gg], inplace=True)"
   ]
  },
  {
   "cell_type": "code",
   "execution_count": 61,
   "id": "e2af973b-5ba5-4f71-9933-0c941e66c368",
   "metadata": {},
   "outputs": [],
   "source": [
    "iniz_elim_covid_3gg = dati.columns.get_loc('pos_coronavirus_3gg')+1\n",
    "fine__elim_covid_3gg = dati.columns.get_loc('pct_foll_3gg')\n",
    "dati.drop(columns=dati.columns[iniz_elim_covid_3gg:fine__elim_covid_3gg], inplace=True)"
   ]
  },
  {
   "cell_type": "code",
   "execution_count": 62,
   "id": "becee725-4fd2-4f9b-9f23-455cdf3bf5e3",
   "metadata": {},
   "outputs": [],
   "source": [
    "dati['wbc'] = dati['wbc']*(10**3)\n",
    "dati['wbc_foll_12h']=dati['wbc_foll_12h'] * (10**3)\n",
    "dati['wbc_foll_24h']=dati['wbc_foll_24h'] * (10**3)\n",
    "dati['wbc_foll_2gg']=dati['wbc_foll_2gg'] * (10**3)\n",
    "dati['wbc_foll_3gg']=dati['wbc_foll_3gg'] * (10**3)"
   ]
  },
  {
   "cell_type": "code",
   "execution_count": 63,
   "id": "151b342c-1d29-492f-b943-23779e4ee745",
   "metadata": {},
   "outputs": [],
   "source": [
    "index_cito = dati.columns.get_loc('cit')\n",
    "index_flui= dati.columns.get_loc('fluidotp') + 1 \n",
    "\n",
    "dati.drop(columns=dati.columns[index_cito:index_flui], inplace=True)"
   ]
  },
  {
   "cell_type": "code",
   "execution_count": 64,
   "id": "701ce93c",
   "metadata": {},
   "outputs": [],
   "source": [
    "index_cito_12h = dati.columns.get_loc('cit_foll_12h')\n",
    "index_flui_12h= dati.columns.get_loc('fluidotp_foll_12h') + 1 \n",
    "dati.drop(columns=dati.columns[index_cito_12h:index_flui_12h], inplace=True)\n"
   ]
  },
  {
   "cell_type": "code",
   "execution_count": 65,
   "id": "da70a96b",
   "metadata": {},
   "outputs": [],
   "source": [
    "index_cito_24h = dati.columns.get_loc('cit_foll_24h')\n",
    "index_flui_24h= dati.columns.get_loc('fluidotp_foll_24h') + 1 \n",
    "dati.drop(columns=dati.columns[index_cito_24h:index_flui_24h], inplace=True)\n"
   ]
  },
  {
   "cell_type": "code",
   "execution_count": 66,
   "id": "cf7c817a",
   "metadata": {},
   "outputs": [],
   "source": [
    "index_cito_2gg = dati.columns.get_loc('cit_foll_2gg')\n",
    "index_flui_2gg= dati.columns.get_loc('fluidotp_foll_2gg') + 1 \n",
    "dati.drop(columns=dati.columns[index_cito_2gg:index_flui_2gg], inplace=True)\n"
   ]
  },
  {
   "cell_type": "code",
   "execution_count": 67,
   "id": "361fe1d9-215a-43e3-9f5b-0873769cd128",
   "metadata": {},
   "outputs": [],
   "source": [
    "index_cito_3gg = dati.columns.get_loc('cit_foll_3gg')\n",
    "index_flui_3gg= dati.columns.get_loc('fluidotp_foll_3gg') + 1 \n",
    "dati.drop(columns=dati.columns[index_cito_3gg:index_flui_3gg], inplace=True)\n"
   ]
  },
  {
   "cell_type": "code",
   "execution_count": 68,
   "id": "860c1e3a-4e37-4ad0-afa4-64ee26914c83",
   "metadata": {
    "tags": []
   },
   "outputs": [],
   "source": [
    "start_rimo = dati.columns.get_loc('altre_ter_extrac')\n",
    "stop_rimo = dati.columns.get_loc('tempo_0_complete')+1\n",
    "dati.drop(columns=dati.columns[start_rimo:stop_rimo], inplace=True)"
   ]
  },
  {
   "cell_type": "code",
   "execution_count": 69,
   "id": "2e2239ac-a92a-4a30-aaf5-442f6a8f8221",
   "metadata": {},
   "outputs": [],
   "source": [
    "start_rimo_12h = dati.columns.get_loc('altre_ter_extrac_12h')\n",
    "stop_rimo_12h = dati.columns.get_loc('monitoraggio_12_ore_complete')+1\n",
    "\n",
    "dati.drop(columns=dati.columns[start_rimo_12h:stop_rimo_12h], inplace=True)"
   ]
  },
  {
   "cell_type": "code",
   "execution_count": 70,
   "id": "e857877c-6001-467d-a5cb-2c4add7481ef",
   "metadata": {},
   "outputs": [],
   "source": [
    "start_rimo_24h = dati.columns.get_loc('altre_ter_extrac_24h')\n",
    "stop_rimo_24h = dati.columns.get_loc('monitoraggio_24_ore_complete')+1\n",
    "dati.drop(columns=dati.columns[start_rimo_24h:stop_rimo_24h], inplace=True)"
   ]
  },
  {
   "cell_type": "code",
   "execution_count": 71,
   "id": "7a158ca4-a8f6-452b-8cdc-13009d3f9dbe",
   "metadata": {},
   "outputs": [],
   "source": [
    "start_rimo_2gg = dati.columns.get_loc('altre_ter_extrac_2gg')\n",
    "stop_rimo_2gg = dati.columns.get_loc('monitoraggio_2_giorno_complete')+1\n",
    "\n",
    "dati.drop(columns=dati.columns[start_rimo_2gg:stop_rimo_2gg], inplace=True)"
   ]
  },
  {
   "cell_type": "code",
   "execution_count": 72,
   "id": "1c5da7c7-c78d-4edc-b211-d1e8564f5622",
   "metadata": {},
   "outputs": [],
   "source": [
    "start_rimo_3gg = dati.columns.get_loc('altre_ter_extrac_3gg')\n",
    "stop_rimo_3gg = dati.columns.get_loc('monitoraggio_3_giorno_complete')+1\n",
    "\n",
    "dati.drop(columns=dati.columns[start_rimo_3gg:stop_rimo_3gg], inplace=True)"
   ]
  },
  {
   "cell_type": "code",
   "execution_count": 73,
   "id": "61d27f83-d699-4415-abba-a2ff12ebcf47",
   "metadata": {},
   "outputs": [],
   "source": [
    "dati['hct_crrt'] = dati['hct_crrt'].fillna(30.0)"
   ]
  },
  {
   "cell_type": "code",
   "execution_count": 74,
   "id": "cc9e90a7",
   "metadata": {},
   "outputs": [],
   "source": [
    "eliminazione = []\n",
    "for col in dati.columns:\n",
    "    if dati[col].dtypes == 'O':\n",
    "        eliminazione.append(col)\n",
    "    "
   ]
  },
  {
   "cell_type": "code",
   "execution_count": 75,
   "id": "aa4f2e1a-f1be-4926-bc9c-72a524874b50",
   "metadata": {},
   "outputs": [],
   "source": [
    "del(eliminazione[0])"
   ]
  },
  {
   "cell_type": "code",
   "execution_count": 76,
   "id": "4d746b21-9d54-481b-8f79-ac54fe0052ae",
   "metadata": {},
   "outputs": [
    {
     "data": {
      "text/plain": [
       "['redcap_data_access_group',\n",
       " 'ricovero',\n",
       " 'tip_paz_chrurgico_altro',\n",
       " 'n_cart_clin',\n",
       " 'cog_paz',\n",
       " 'nome_paz',\n",
       " 'born',\n",
       " 'comorb_altro',\n",
       " 'avv_vent',\n",
       " 'resp_spont_altro',\n",
       " 'diur_3',\n",
       " 'sede_altro',\n",
       " 'arrt_start',\n",
       " 'altro_filtro_crrt',\n",
       " 'altro_coagu_crrt',\n",
       " 'tip_camp_al_tp',\n",
       " 'q_sam',\n",
       " 'q_camp_tp',\n",
       " 'data_new_access_foll_12h',\n",
       " 'rimoz_access_foll_12h',\n",
       " 'altro_sosp_foll_12h',\n",
       " 'sost_foll_12h_altro',\n",
       " 'altro_coagu_crrt_foll_12h',\n",
       " 'avv_vent_12h',\n",
       " 'resp_spont_altro_foll_12h',\n",
       " 'data_new_access_foll_24h',\n",
       " 'altro_sosp_foll_24h',\n",
       " 'sost_0_foll_24h_altro',\n",
       " 'altro_macc_crrt_foll_24h',\n",
       " 'altro_coagu_crrt_foll_24h',\n",
       " 'avv_vent_24h',\n",
       " 'resp_spont_altro_foll_24h',\n",
       " 'sede_altro_foll_24h',\n",
       " 'data_new_access_foll_2gg',\n",
       " 'rimoz_access_foll_2gg',\n",
       " 'altro_sosp_foll_2gg',\n",
       " 'sost_foll_2gg_altro',\n",
       " 'altro_macc_crrt_foll_2gg',\n",
       " 'altro_coagu_crrt_foll_2gg',\n",
       " 'durata_irrt_foll_2gg',\n",
       " 'avv_vent_2gg',\n",
       " 'resp_spont_altro_foll_2gg',\n",
       " 'sede_altro_foll_2gg',\n",
       " 'data_new_access_foll_3gg',\n",
       " 'rimoz_access_foll_3gg',\n",
       " 'arrt_3gg',\n",
       " 'altro_sosp_foll_3gg',\n",
       " 'sost_foll_3gg_alto',\n",
       " 'altro_macc_crrt_foll_3gg',\n",
       " 'altro_coagu_crrt_foll_3gg',\n",
       " 'avv_vent_3gg',\n",
       " 'resp_spont_altro_foll_3gg',\n",
       " 'ddim_3gg',\n",
       " 'sede_altro_foll_3gg',\n",
       " 'dimissione',\n",
       " 'dimissione_ospedale',\n",
       " 'decesso',\n",
       " 'arrt_end',\n",
       " 'cpap_end',\n",
       " 'ecmo_end',\n",
       " 'pat_1',\n",
       " 'pat_2',\n",
       " 'pat_3',\n",
       " 'pat_4',\n",
       " 'pato_sovrainf_1',\n",
       " 'pato_sovrainf_2',\n",
       " 'pato_sovrainf_3',\n",
       " 'pato_sovrainf_4',\n",
       " 'farm',\n",
       " 'posologia_diuretico',\n",
       " 'tip_camp_al_out']"
      ]
     },
     "execution_count": 76,
     "metadata": {},
     "output_type": "execute_result"
    }
   ],
   "source": [
    "eliminazione"
   ]
  },
  {
   "cell_type": "code",
   "execution_count": 77,
   "id": "4579cd32-da7f-4fe1-ac5d-35485aa0c094",
   "metadata": {},
   "outputs": [],
   "source": [
    "dati.drop(columns=eliminazione,inplace=True)"
   ]
  },
  {
   "cell_type": "code",
   "execution_count": 78,
   "id": "eb5d0145-f72b-4421-ae36-8b90043b0ef7",
   "metadata": {},
   "outputs": [],
   "source": [
    "dati['fet_crrt'] = dati['fet_crrt'].fillna(3000.0)\n",
    "dati['fet_crrt_foll_12h'] = dati['fet_crrt_foll_12h'].fillna(3000.0)\n",
    "dati['fet_crrt_foll_24h'] = dati['fet_crrt_foll_24h'].fillna(3000.0)\n",
    "dati['fet_crrt_foll_2gg'] = dati['fet_crrt_foll_2gg'].fillna(3000.0)\n",
    "dati['fet_crrt_foll_3gg'] = dati['fet_crrt_foll_3gg'].fillna(3000.0)\n",
    "\n"
   ]
  },
  {
   "cell_type": "code",
   "execution_count": 82,
   "id": "60e44eee-5ff8-4d33-b7ba-da7ec00546ba",
   "metadata": {},
   "outputs": [],
   "source": [
    "dati['calc_ione_crrt'] = dati['calc_ione_crrt'].fillna(dati['ca_ione_crrt_mg'])\n",
    "\n",
    "dati['ca_ione_crrt_foll_12h'] = dati['ca_ione_crrt_foll_12h'].fillna(dati['ca_ione_crrt_foll_12h_mg'])\n",
    "dati['cal_post_filtro_crrt_foll_12h'] = dati['cal_post_filtro_crrt_foll_12h'].fillna(dati['cal_post_filtro_crrt_foll_12h_mg'])\n",
    "\n",
    "dati['ca_ione_crrt_foll_24h'] = dati['ca_ione_crrt_foll_24h'].fillna(dati['ca_ione_crrt_foll_24h_mg'])\n",
    "dati['cal_post_filtro_crrt_foll_24h'] = dati['cal_post_filtro_crrt_foll_24h'].fillna(dati['cal_post_filtro_crrt_foll_24h_mg'])\n",
    "\n",
    "dati['ca_ione_crrt_foll_2gg'] = dati['ca_ione_crrt_foll_2gg'].fillna(dati['ca_ione_crrt_foll_2gg_mg'])\n",
    "dati['ca_ione_crrt_foll_2gg'] = dati['ca_ione_crrt_foll_2gg'].fillna(dati['ca_ione_crrt_foll_2gg_mg'])\n",
    "\n",
    "dati['ca_ione_crrt_foll_3gg'] = dati['ca_ione_crrt_foll_3gg'].fillna(dati['ca_ione_crrt_foll_3gg_mg'])\n",
    "dati['ca_ione_crrt_foll_3gg'] = dati['ca_ione_crrt_foll_3gg'].fillna(dati['ca_ione_crrt_foll_3gg_mg'])\n"
   ]
  },
  {
   "cell_type": "code",
   "execution_count": 90,
   "id": "dad1da8c-e996-4391-a700-eaffe6c11b7f",
   "metadata": {},
   "outputs": [
    {
     "data": {
      "text/plain": [
       "37       33-1\n",
       "85      34-51\n",
       "119     81-12\n",
       "122     81-15\n",
       "125     109-4\n",
       "132     117-6\n",
       "135     180-2\n",
       "151    180-28\n",
       "168    181-14\n",
       "169    181-15\n",
       "186     296-8\n",
       "253    376-55\n",
       "255    376-60\n",
       "273     558-8\n",
       "Name: record_id, dtype: object"
      ]
     },
     "execution_count": 90,
     "metadata": {},
     "output_type": "execute_result"
    }
   ],
   "source": [
    "dati['record_id'].loc[(dati['deg_tot_dec']<=2) | (dati['deg_tot_dim']<=2)]"
   ]
  },
  {
   "cell_type": "code",
   "execution_count": 93,
   "id": "09b2ac76-792a-492e-90da-2f980cdfca51",
   "metadata": {},
   "outputs": [],
   "source": [
    "df = dati[['creatinine_sofa_foll_2gg','gcs_sofa_foll_2gg','platelets_sofa_foll_2gg','bili_sofa_foll_2gg',\n",
    "     'hypotension_sofa_foll_12h','resp_sofa_foll_12h','sofa_score_foll_2gg']]"
   ]
  },
  {
   "cell_type": "code",
   "execution_count": 119,
   "id": "89554aec-eb98-4445-b52d-fbff821f5f95",
   "metadata": {},
   "outputs": [],
   "source": [
    "dati.drop(dati.loc[(dati['record_id']=='297-42') | (dati['record_id']=='297-67')].index,inplace=True)\n",
    "dati.reset_index(inplace=True)\n",
    "dati.drop(columns=('index'),inplace=True)"
   ]
  },
  {
   "cell_type": "code",
   "execution_count": 135,
   "id": "550fdc42-eb31-40bb-b574-07ef2ea5dd05",
   "metadata": {},
   "outputs": [
    {
     "data": {
      "text/plain": [
       "16       22-3\n",
       "20       22-7\n",
       "21       22-8\n",
       "22       22-9\n",
       "23      22-10\n",
       "        ...  \n",
       "254    376-62\n",
       "256    376-67\n",
       "258     450-6\n",
       "271     558-8\n",
       "274    558-12\n",
       "Name: record_id, Length: 70, dtype: object"
      ]
     },
     "execution_count": 135,
     "metadata": {},
     "output_type": "execute_result"
    }
   ],
   "source": [
    "dati['record_id'].loc[dati['gcs_foll_3gg'].isnull()]"
   ]
  },
  {
   "cell_type": "code",
   "execution_count": 136,
   "id": "45c0f4eb-616a-48d2-b41e-22c40cda1de4",
   "metadata": {},
   "outputs": [],
   "source": [
    "dati = dati.fillna(0)"
   ]
  },
  {
   "cell_type": "code",
   "execution_count": 137,
   "id": "aef94582-89e1-4e9b-9892-3e2f121a7036",
   "metadata": {},
   "outputs": [
    {
     "data": {
      "text/html": [
       "<div>\n",
       "<style scoped>\n",
       "    .dataframe tbody tr th:only-of-type {\n",
       "        vertical-align: middle;\n",
       "    }\n",
       "\n",
       "    .dataframe tbody tr th {\n",
       "        vertical-align: top;\n",
       "    }\n",
       "\n",
       "    .dataframe thead th {\n",
       "        text-align: right;\n",
       "    }\n",
       "</style>\n",
       "<table border=\"1\" class=\"dataframe\">\n",
       "  <thead>\n",
       "    <tr style=\"text-align: right;\">\n",
       "      <th></th>\n",
       "      <th>record_id</th>\n",
       "      <th>tip_paz</th>\n",
       "      <th>tip_ricov_chirurg</th>\n",
       "      <th>tip_paz_chirurgico</th>\n",
       "      <th>obiet_ricov_ti___1</th>\n",
       "      <th>obiet_ricov_ti___2</th>\n",
       "      <th>obiet_ricov_ti___3</th>\n",
       "      <th>obiet_ricov_ti___4</th>\n",
       "      <th>obiet_ricov_ti___5</th>\n",
       "      <th>obiet_ricov_ti___6</th>\n",
       "      <th>...</th>\n",
       "      <th>downtime_perc</th>\n",
       "      <th>dose_totale</th>\n",
       "      <th>ultrafiltr_totale</th>\n",
       "      <th>rac_cam_out</th>\n",
       "      <th>tip_camp_out___1</th>\n",
       "      <th>tip_camp_out___2</th>\n",
       "      <th>tip_camp_out___3</th>\n",
       "      <th>tip_camp_out___4</th>\n",
       "      <th>q_camp_out</th>\n",
       "      <th>outcome_ti_complete</th>\n",
       "    </tr>\n",
       "  </thead>\n",
       "  <tbody>\n",
       "    <tr>\n",
       "      <th>0</th>\n",
       "      <td>4</td>\n",
       "      <td>1</td>\n",
       "      <td>0.0</td>\n",
       "      <td>0.0</td>\n",
       "      <td>1</td>\n",
       "      <td>0</td>\n",
       "      <td>0</td>\n",
       "      <td>0</td>\n",
       "      <td>0</td>\n",
       "      <td>0</td>\n",
       "      <td>...</td>\n",
       "      <td>0.0</td>\n",
       "      <td>0.0</td>\n",
       "      <td>0.0</td>\n",
       "      <td>0.0</td>\n",
       "      <td>0</td>\n",
       "      <td>0</td>\n",
       "      <td>0</td>\n",
       "      <td>0</td>\n",
       "      <td>0.0</td>\n",
       "      <td>2</td>\n",
       "    </tr>\n",
       "    <tr>\n",
       "      <th>1</th>\n",
       "      <td>5</td>\n",
       "      <td>1</td>\n",
       "      <td>0.0</td>\n",
       "      <td>0.0</td>\n",
       "      <td>1</td>\n",
       "      <td>0</td>\n",
       "      <td>0</td>\n",
       "      <td>0</td>\n",
       "      <td>0</td>\n",
       "      <td>0</td>\n",
       "      <td>...</td>\n",
       "      <td>0.0</td>\n",
       "      <td>0.0</td>\n",
       "      <td>0.0</td>\n",
       "      <td>0.0</td>\n",
       "      <td>0</td>\n",
       "      <td>0</td>\n",
       "      <td>0</td>\n",
       "      <td>0</td>\n",
       "      <td>0.0</td>\n",
       "      <td>2</td>\n",
       "    </tr>\n",
       "    <tr>\n",
       "      <th>2</th>\n",
       "      <td>6</td>\n",
       "      <td>1</td>\n",
       "      <td>0.0</td>\n",
       "      <td>0.0</td>\n",
       "      <td>1</td>\n",
       "      <td>0</td>\n",
       "      <td>0</td>\n",
       "      <td>0</td>\n",
       "      <td>0</td>\n",
       "      <td>0</td>\n",
       "      <td>...</td>\n",
       "      <td>0.0</td>\n",
       "      <td>0.0</td>\n",
       "      <td>0.0</td>\n",
       "      <td>0.0</td>\n",
       "      <td>0</td>\n",
       "      <td>0</td>\n",
       "      <td>0</td>\n",
       "      <td>0</td>\n",
       "      <td>0.0</td>\n",
       "      <td>2</td>\n",
       "    </tr>\n",
       "    <tr>\n",
       "      <th>3</th>\n",
       "      <td>7</td>\n",
       "      <td>1</td>\n",
       "      <td>0.0</td>\n",
       "      <td>0.0</td>\n",
       "      <td>1</td>\n",
       "      <td>0</td>\n",
       "      <td>0</td>\n",
       "      <td>0</td>\n",
       "      <td>0</td>\n",
       "      <td>0</td>\n",
       "      <td>...</td>\n",
       "      <td>0.0</td>\n",
       "      <td>0.0</td>\n",
       "      <td>0.0</td>\n",
       "      <td>0.0</td>\n",
       "      <td>0</td>\n",
       "      <td>0</td>\n",
       "      <td>0</td>\n",
       "      <td>0</td>\n",
       "      <td>0.0</td>\n",
       "      <td>2</td>\n",
       "    </tr>\n",
       "    <tr>\n",
       "      <th>4</th>\n",
       "      <td>8</td>\n",
       "      <td>1</td>\n",
       "      <td>0.0</td>\n",
       "      <td>0.0</td>\n",
       "      <td>1</td>\n",
       "      <td>0</td>\n",
       "      <td>0</td>\n",
       "      <td>0</td>\n",
       "      <td>0</td>\n",
       "      <td>0</td>\n",
       "      <td>...</td>\n",
       "      <td>0.0</td>\n",
       "      <td>0.0</td>\n",
       "      <td>0.0</td>\n",
       "      <td>0.0</td>\n",
       "      <td>0</td>\n",
       "      <td>0</td>\n",
       "      <td>0</td>\n",
       "      <td>0</td>\n",
       "      <td>0.0</td>\n",
       "      <td>2</td>\n",
       "    </tr>\n",
       "    <tr>\n",
       "      <th>...</th>\n",
       "      <td>...</td>\n",
       "      <td>...</td>\n",
       "      <td>...</td>\n",
       "      <td>...</td>\n",
       "      <td>...</td>\n",
       "      <td>...</td>\n",
       "      <td>...</td>\n",
       "      <td>...</td>\n",
       "      <td>...</td>\n",
       "      <td>...</td>\n",
       "      <td>...</td>\n",
       "      <td>...</td>\n",
       "      <td>...</td>\n",
       "      <td>...</td>\n",
       "      <td>...</td>\n",
       "      <td>...</td>\n",
       "      <td>...</td>\n",
       "      <td>...</td>\n",
       "      <td>...</td>\n",
       "      <td>...</td>\n",
       "      <td>...</td>\n",
       "    </tr>\n",
       "    <tr>\n",
       "      <th>270</th>\n",
       "      <td>558-5</td>\n",
       "      <td>1</td>\n",
       "      <td>0.0</td>\n",
       "      <td>0.0</td>\n",
       "      <td>0</td>\n",
       "      <td>1</td>\n",
       "      <td>0</td>\n",
       "      <td>0</td>\n",
       "      <td>0</td>\n",
       "      <td>0</td>\n",
       "      <td>...</td>\n",
       "      <td>0.0</td>\n",
       "      <td>0.0</td>\n",
       "      <td>0.0</td>\n",
       "      <td>0.0</td>\n",
       "      <td>0</td>\n",
       "      <td>0</td>\n",
       "      <td>0</td>\n",
       "      <td>0</td>\n",
       "      <td>0.0</td>\n",
       "      <td>2</td>\n",
       "    </tr>\n",
       "    <tr>\n",
       "      <th>271</th>\n",
       "      <td>558-8</td>\n",
       "      <td>2</td>\n",
       "      <td>2.0</td>\n",
       "      <td>1.0</td>\n",
       "      <td>1</td>\n",
       "      <td>1</td>\n",
       "      <td>1</td>\n",
       "      <td>0</td>\n",
       "      <td>0</td>\n",
       "      <td>0</td>\n",
       "      <td>...</td>\n",
       "      <td>0.0</td>\n",
       "      <td>0.0</td>\n",
       "      <td>0.0</td>\n",
       "      <td>0.0</td>\n",
       "      <td>0</td>\n",
       "      <td>0</td>\n",
       "      <td>0</td>\n",
       "      <td>0</td>\n",
       "      <td>0.0</td>\n",
       "      <td>2</td>\n",
       "    </tr>\n",
       "    <tr>\n",
       "      <th>272</th>\n",
       "      <td>558-9</td>\n",
       "      <td>1</td>\n",
       "      <td>0.0</td>\n",
       "      <td>0.0</td>\n",
       "      <td>1</td>\n",
       "      <td>1</td>\n",
       "      <td>1</td>\n",
       "      <td>0</td>\n",
       "      <td>0</td>\n",
       "      <td>0</td>\n",
       "      <td>...</td>\n",
       "      <td>0.0</td>\n",
       "      <td>0.0</td>\n",
       "      <td>0.0</td>\n",
       "      <td>0.0</td>\n",
       "      <td>0</td>\n",
       "      <td>0</td>\n",
       "      <td>0</td>\n",
       "      <td>0</td>\n",
       "      <td>0.0</td>\n",
       "      <td>2</td>\n",
       "    </tr>\n",
       "    <tr>\n",
       "      <th>273</th>\n",
       "      <td>558-10</td>\n",
       "      <td>1</td>\n",
       "      <td>0.0</td>\n",
       "      <td>0.0</td>\n",
       "      <td>1</td>\n",
       "      <td>1</td>\n",
       "      <td>1</td>\n",
       "      <td>0</td>\n",
       "      <td>1</td>\n",
       "      <td>0</td>\n",
       "      <td>...</td>\n",
       "      <td>0.0</td>\n",
       "      <td>0.0</td>\n",
       "      <td>0.0</td>\n",
       "      <td>0.0</td>\n",
       "      <td>0</td>\n",
       "      <td>0</td>\n",
       "      <td>0</td>\n",
       "      <td>0</td>\n",
       "      <td>0.0</td>\n",
       "      <td>2</td>\n",
       "    </tr>\n",
       "    <tr>\n",
       "      <th>274</th>\n",
       "      <td>558-12</td>\n",
       "      <td>1</td>\n",
       "      <td>0.0</td>\n",
       "      <td>0.0</td>\n",
       "      <td>1</td>\n",
       "      <td>1</td>\n",
       "      <td>1</td>\n",
       "      <td>1</td>\n",
       "      <td>0</td>\n",
       "      <td>0</td>\n",
       "      <td>...</td>\n",
       "      <td>0.0</td>\n",
       "      <td>0.0</td>\n",
       "      <td>0.0</td>\n",
       "      <td>0.0</td>\n",
       "      <td>0</td>\n",
       "      <td>0</td>\n",
       "      <td>0</td>\n",
       "      <td>0</td>\n",
       "      <td>0.0</td>\n",
       "      <td>2</td>\n",
       "    </tr>\n",
       "  </tbody>\n",
       "</table>\n",
       "<p>275 rows × 979 columns</p>\n",
       "</div>"
      ],
      "text/plain": [
       "    record_id  tip_paz  tip_ricov_chirurg  tip_paz_chirurgico  \\\n",
       "0           4        1                0.0                 0.0   \n",
       "1           5        1                0.0                 0.0   \n",
       "2           6        1                0.0                 0.0   \n",
       "3           7        1                0.0                 0.0   \n",
       "4           8        1                0.0                 0.0   \n",
       "..        ...      ...                ...                 ...   \n",
       "270     558-5        1                0.0                 0.0   \n",
       "271     558-8        2                2.0                 1.0   \n",
       "272     558-9        1                0.0                 0.0   \n",
       "273    558-10        1                0.0                 0.0   \n",
       "274    558-12        1                0.0                 0.0   \n",
       "\n",
       "     obiet_ricov_ti___1  obiet_ricov_ti___2  obiet_ricov_ti___3  \\\n",
       "0                     1                   0                   0   \n",
       "1                     1                   0                   0   \n",
       "2                     1                   0                   0   \n",
       "3                     1                   0                   0   \n",
       "4                     1                   0                   0   \n",
       "..                  ...                 ...                 ...   \n",
       "270                   0                   1                   0   \n",
       "271                   1                   1                   1   \n",
       "272                   1                   1                   1   \n",
       "273                   1                   1                   1   \n",
       "274                   1                   1                   1   \n",
       "\n",
       "     obiet_ricov_ti___4  obiet_ricov_ti___5  obiet_ricov_ti___6  ...  \\\n",
       "0                     0                   0                   0  ...   \n",
       "1                     0                   0                   0  ...   \n",
       "2                     0                   0                   0  ...   \n",
       "3                     0                   0                   0  ...   \n",
       "4                     0                   0                   0  ...   \n",
       "..                  ...                 ...                 ...  ...   \n",
       "270                   0                   0                   0  ...   \n",
       "271                   0                   0                   0  ...   \n",
       "272                   0                   0                   0  ...   \n",
       "273                   0                   1                   0  ...   \n",
       "274                   1                   0                   0  ...   \n",
       "\n",
       "     downtime_perc  dose_totale  ultrafiltr_totale  rac_cam_out  \\\n",
       "0              0.0          0.0                0.0          0.0   \n",
       "1              0.0          0.0                0.0          0.0   \n",
       "2              0.0          0.0                0.0          0.0   \n",
       "3              0.0          0.0                0.0          0.0   \n",
       "4              0.0          0.0                0.0          0.0   \n",
       "..             ...          ...                ...          ...   \n",
       "270            0.0          0.0                0.0          0.0   \n",
       "271            0.0          0.0                0.0          0.0   \n",
       "272            0.0          0.0                0.0          0.0   \n",
       "273            0.0          0.0                0.0          0.0   \n",
       "274            0.0          0.0                0.0          0.0   \n",
       "\n",
       "     tip_camp_out___1  tip_camp_out___2  tip_camp_out___3  tip_camp_out___4  \\\n",
       "0                   0                 0                 0                 0   \n",
       "1                   0                 0                 0                 0   \n",
       "2                   0                 0                 0                 0   \n",
       "3                   0                 0                 0                 0   \n",
       "4                   0                 0                 0                 0   \n",
       "..                ...               ...               ...               ...   \n",
       "270                 0                 0                 0                 0   \n",
       "271                 0                 0                 0                 0   \n",
       "272                 0                 0                 0                 0   \n",
       "273                 0                 0                 0                 0   \n",
       "274                 0                 0                 0                 0   \n",
       "\n",
       "     q_camp_out  outcome_ti_complete  \n",
       "0           0.0                    2  \n",
       "1           0.0                    2  \n",
       "2           0.0                    2  \n",
       "3           0.0                    2  \n",
       "4           0.0                    2  \n",
       "..          ...                  ...  \n",
       "270         0.0                    2  \n",
       "271         0.0                    2  \n",
       "272         0.0                    2  \n",
       "273         0.0                    2  \n",
       "274         0.0                    2  \n",
       "\n",
       "[275 rows x 979 columns]"
      ]
     },
     "execution_count": 137,
     "metadata": {},
     "output_type": "execute_result"
    }
   ],
   "source": [
    "dati"
   ]
  },
  {
   "cell_type": "code",
   "execution_count": 138,
   "id": "c5dc2296-0876-43e6-92e4-33482366d411",
   "metadata": {},
   "outputs": [],
   "source": [
    "dati.to_excel('dati_puliti_finali.xlsx')"
   ]
  },
  {
   "cell_type": "code",
   "execution_count": null,
   "id": "6391add0-e15d-4a28-8fa1-eb8315a77fcf",
   "metadata": {},
   "outputs": [],
   "source": []
  }
 ],
 "metadata": {
  "kernelspec": {
   "display_name": "Python 3.8.8 64-bit ('base': conda)",
   "language": "python",
   "name": "python388jvsc74a57bd0d99f57a4e7965aa87493ab34ca6d6c21d8e704820f49870e94f850b8c992837f"
  },
  "language_info": {
   "codemirror_mode": {
    "name": "ipython",
    "version": 3
   },
   "file_extension": ".py",
   "mimetype": "text/x-python",
   "name": "python",
   "nbconvert_exporter": "python",
   "pygments_lexer": "ipython3",
   "version": "3.9.12"
  }
 },
 "nbformat": 4,
 "nbformat_minor": 5
}
